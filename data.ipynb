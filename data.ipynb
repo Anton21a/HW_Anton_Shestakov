{
 "cells": [
  {
   "cell_type": "code",
   "execution_count": 1,
   "id": "3cfaf924-7b30-4e97-a52a-7375595eea10",
   "metadata": {},
   "outputs": [],
   "source": [
    "import pandas as pd\n",
    "import numpy as np\n",
    "import warnings\n",
    "warnings.filterwarnings(\"ignore\")"
   ]
  },
  {
   "cell_type": "markdown",
   "id": "74aa8e51-86e9-4a51-b11c-05c5094ccb34",
   "metadata": {},
   "source": [
    "## Opening data"
   ]
  },
  {
   "cell_type": "code",
   "execution_count": 2,
   "id": "3df16125-1ae6-4b45-a602-377ce78b8ab3",
   "metadata": {},
   "outputs": [],
   "source": [
    "data = pd.read_csv(\"epl-games_p.csv\")"
   ]
  },
  {
   "cell_type": "code",
   "execution_count": 3,
   "id": "16c52957-dbd5-42e8-b2cd-efb760f214f6",
   "metadata": {},
   "outputs": [
    {
     "name": "stdout",
     "output_type": "stream",
     "text": [
      "  div  season        date      team_home  team_away  points_home  points_away  \\\n",
      "0  E0    2008  2008-08-16        Everton  Blackburn          0.0          3.0   \n",
      "1  E0    2008  2008-08-16           Hull     Fulham          3.0          0.0   \n",
      "2  E0    2008  2008-08-16     Sunderland  Liverpool          0.0          3.0   \n",
      "3  E0    2008  2008-08-16         Bolton      Stoke          3.0          0.0   \n",
      "4  E0    2008  2008-08-16  Middlesbrough  Tottenham          3.0          0.0   \n",
      "\n",
      "   goals_home  goals_away  hometeam_uid  awayteam_uid  \n",
      "0         2.0         3.0            13             4  \n",
      "1         2.0         1.0            16            14  \n",
      "2         0.0         1.0            29            18  \n",
      "3         3.0         1.0             6            28  \n",
      "4         2.0         1.0            21            31  \n"
     ]
    }
   ],
   "source": [
    "print(data.head())"
   ]
  },
  {
   "cell_type": "code",
   "execution_count": 4,
   "id": "ed2c8178-fe61-4c6f-966e-077d88ae025f",
   "metadata": {},
   "outputs": [
    {
     "name": "stdout",
     "output_type": "stream",
     "text": [
      "     div  season        date      team_home     team_away  points_home  \\\n",
      "0     E0    2008  2008-08-16        Everton     Blackburn          0.0   \n",
      "1     E0    2008  2008-08-16           Hull        Fulham          3.0   \n",
      "2     E0    2008  2008-08-16     Sunderland     Liverpool          0.0   \n",
      "3     E0    2008  2008-08-16         Bolton         Stoke          3.0   \n",
      "4     E0    2008  2008-08-16  Middlesbrough     Tottenham          3.0   \n",
      "...   ..     ...         ...            ...           ...          ...   \n",
      "4175  E0    2018  2019-05-12    Southampton  Huddersfield          1.0   \n",
      "4176  E0    2018  2019-05-12       Brighton      Man City          0.0   \n",
      "4177  E0    2018  2019-05-12         Fulham     Newcastle          0.0   \n",
      "4178  E0    2018  2019-05-12        Watford      West Ham          0.0   \n",
      "4179  E0    2018  2019-05-12      Liverpool        Wolves          3.0   \n",
      "\n",
      "      points_away  goals_home  goals_away  hometeam_uid  awayteam_uid  \n",
      "0             3.0         2.0         3.0            13             4  \n",
      "1             0.0         2.0         1.0            16            14  \n",
      "2             3.0         0.0         1.0            29            18  \n",
      "3             0.0         3.0         1.0             6            28  \n",
      "4             0.0         2.0         1.0            21            31  \n",
      "...           ...         ...         ...           ...           ...  \n",
      "4175          1.0         1.0         1.0            27            15  \n",
      "4176          3.0         1.0         4.0             8            19  \n",
      "4177          3.0         0.0         4.0            14            22  \n",
      "4178          3.0         1.0         4.0            32            34  \n",
      "4179          0.0         2.0         0.0            18            36  \n",
      "\n",
      "[4180 rows x 11 columns]\n"
     ]
    }
   ],
   "source": [
    "print(data)"
   ]
  },
  {
   "cell_type": "markdown",
   "id": "53f1615e-53b9-4e46-94f9-5d632cd27019",
   "metadata": {},
   "source": [
    "## Data Exploration and Modification"
   ]
  },
  {
   "cell_type": "code",
   "execution_count": 5,
   "id": "b7572ebc-fbce-4f79-9a56-636fb5783066",
   "metadata": {},
   "outputs": [
    {
     "name": "stdout",
     "output_type": "stream",
     "text": [
      "div              object\n",
      "season            int64\n",
      "date             object\n",
      "team_home        object\n",
      "team_away        object\n",
      "points_home     float64\n",
      "points_away     float64\n",
      "goals_home      float64\n",
      "goals_away      float64\n",
      "hometeam_uid      int64\n",
      "awayteam_uid      int64\n",
      "dtype: object\n"
     ]
    }
   ],
   "source": [
    "print(data.dtypes)"
   ]
  },
  {
   "cell_type": "code",
   "execution_count": 6,
   "id": "822705f8-c4b2-402f-818e-eaa881adfec3",
   "metadata": {},
   "outputs": [
    {
     "name": "stdout",
     "output_type": "stream",
     "text": [
      "<class 'pandas.core.frame.DataFrame'>\n",
      "RangeIndex: 4180 entries, 0 to 4179\n",
      "Data columns (total 11 columns):\n",
      " #   Column        Non-Null Count  Dtype  \n",
      "---  ------        --------------  -----  \n",
      " 0   div           4180 non-null   object \n",
      " 1   season        4180 non-null   int64  \n",
      " 2   date          4180 non-null   object \n",
      " 3   team_home     4180 non-null   object \n",
      " 4   team_away     4180 non-null   object \n",
      " 5   points_home   4180 non-null   float64\n",
      " 6   points_away   4180 non-null   float64\n",
      " 7   goals_home    4180 non-null   float64\n",
      " 8   goals_away    4180 non-null   float64\n",
      " 9   hometeam_uid  4180 non-null   int64  \n",
      " 10  awayteam_uid  4180 non-null   int64  \n",
      "dtypes: float64(4), int64(3), object(4)\n",
      "memory usage: 359.3+ KB\n"
     ]
    }
   ],
   "source": [
    "data.info()"
   ]
  },
  {
   "cell_type": "code",
   "execution_count": 7,
   "id": "1790a726-6f65-4b10-b52f-4cbfad88f414",
   "metadata": {},
   "outputs": [],
   "source": [
    "from skimpy import skim"
   ]
  },
  {
   "cell_type": "code",
   "execution_count": 8,
   "id": "e5144dbd-c8e3-47ed-93c1-ef9c8ce70b4d",
   "metadata": {},
   "outputs": [
    {
     "data": {
      "text/html": [
       "<pre style=\"white-space:pre;overflow-x:auto;line-height:normal;font-family:Menlo,'DejaVu Sans Mono',consolas,'Courier New',monospace\">╭──────────────────────────────────────────────── skimpy summary ─────────────────────────────────────────────────╮\n",
       "│ <span style=\"font-style: italic\">         Data Summary         </span> <span style=\"font-style: italic\">      Data Types       </span>                                                          │\n",
       "│ ┏━━━━━━━━━━━━━━━━━━━┳━━━━━━━━┓ ┏━━━━━━━━━━━━━┳━━━━━━━┓                                                          │\n",
       "│ ┃<span style=\"color: #008080; text-decoration-color: #008080; font-weight: bold\"> dataframe         </span>┃<span style=\"color: #008080; text-decoration-color: #008080; font-weight: bold\"> Values </span>┃ ┃<span style=\"color: #008080; text-decoration-color: #008080; font-weight: bold\"> Column Type </span>┃<span style=\"color: #008080; text-decoration-color: #008080; font-weight: bold\"> Count </span>┃                                                          │\n",
       "│ ┡━━━━━━━━━━━━━━━━━━━╇━━━━━━━━┩ ┡━━━━━━━━━━━━━╇━━━━━━━┩                                                          │\n",
       "│ │ Number of rows    │ 4180   │ │ string      │ 4     │                                                          │\n",
       "│ │ Number of columns │ 11     │ │ float64     │ 4     │                                                          │\n",
       "│ └───────────────────┴────────┘ │ int32       │ 3     │                                                          │\n",
       "│                                └─────────────┴───────┘                                                          │\n",
       "│ <span style=\"font-style: italic\">                                                    number                                                    </span>  │\n",
       "│ ┏━━━━━━━━━━━━━━━━━━━┳━━━━━━┳━━━━━━━━┳━━━━━━━━━┳━━━━━━━━━┳━━━━━━━━┳━━━━━━━━┳━━━━━━━━┳━━━━━━━┳━━━━━━━┳━━━━━━━━━┓  │\n",
       "│ ┃<span style=\"font-weight: bold\"> column_name       </span>┃<span style=\"font-weight: bold\"> NA   </span>┃<span style=\"font-weight: bold\"> NA %   </span>┃<span style=\"font-weight: bold\"> mean    </span>┃<span style=\"font-weight: bold\"> sd      </span>┃<span style=\"font-weight: bold\"> p0     </span>┃<span style=\"font-weight: bold\"> p25    </span>┃<span style=\"font-weight: bold\"> p50    </span>┃<span style=\"font-weight: bold\"> p75   </span>┃<span style=\"font-weight: bold\"> p100  </span>┃<span style=\"font-weight: bold\"> hist    </span>┃  │\n",
       "│ ┡━━━━━━━━━━━━━━━━━━━╇━━━━━━╇━━━━━━━━╇━━━━━━━━━╇━━━━━━━━━╇━━━━━━━━╇━━━━━━━━╇━━━━━━━━╇━━━━━━━╇━━━━━━━╇━━━━━━━━━┩  │\n",
       "│ │ <span style=\"color: #af87ff; text-decoration-color: #af87ff\">season           </span> │ <span style=\"color: #008080; text-decoration-color: #008080\">   0</span> │ <span style=\"color: #008080; text-decoration-color: #008080\">     0</span> │ <span style=\"color: #008080; text-decoration-color: #008080\">   2013</span> │ <span style=\"color: #008080; text-decoration-color: #008080\">  3.163</span> │ <span style=\"color: #008080; text-decoration-color: #008080\">  2008</span> │ <span style=\"color: #008080; text-decoration-color: #008080\">  2010</span> │ <span style=\"color: #008080; text-decoration-color: #008080\">  2013</span> │ <span style=\"color: #008080; text-decoration-color: #008080\"> 2016</span> │ <span style=\"color: #008080; text-decoration-color: #008080\"> 2018</span> │ <span style=\"color: #008000; text-decoration-color: #008000\">▇▇▃▇▇▇ </span> │  │\n",
       "│ │ <span style=\"color: #af87ff; text-decoration-color: #af87ff\">points_home      </span> │ <span style=\"color: #008080; text-decoration-color: #008080\">   0</span> │ <span style=\"color: #008080; text-decoration-color: #008080\">     0</span> │ <span style=\"color: #008080; text-decoration-color: #008080\">  1.634</span> │ <span style=\"color: #008080; text-decoration-color: #008080\">  1.318</span> │ <span style=\"color: #008080; text-decoration-color: #008080\">     0</span> │ <span style=\"color: #008080; text-decoration-color: #008080\">     0</span> │ <span style=\"color: #008080; text-decoration-color: #008080\">     1</span> │ <span style=\"color: #008080; text-decoration-color: #008080\">    3</span> │ <span style=\"color: #008080; text-decoration-color: #008080\">    3</span> │ <span style=\"color: #008000; text-decoration-color: #008000\">▅ ▅  ▇ </span> │  │\n",
       "│ │ <span style=\"color: #af87ff; text-decoration-color: #af87ff\">points_away      </span> │ <span style=\"color: #008080; text-decoration-color: #008080\">   0</span> │ <span style=\"color: #008080; text-decoration-color: #008080\">     0</span> │ <span style=\"color: #008080; text-decoration-color: #008080\">  1.118</span> │ <span style=\"color: #008080; text-decoration-color: #008080\">  1.268</span> │ <span style=\"color: #008080; text-decoration-color: #008080\">     0</span> │ <span style=\"color: #008080; text-decoration-color: #008080\">     0</span> │ <span style=\"color: #008080; text-decoration-color: #008080\">     1</span> │ <span style=\"color: #008080; text-decoration-color: #008080\">    3</span> │ <span style=\"color: #008080; text-decoration-color: #008080\">    3</span> │ <span style=\"color: #008000; text-decoration-color: #008000\">▇ ▅  ▅ </span> │  │\n",
       "│ │ <span style=\"color: #af87ff; text-decoration-color: #af87ff\">goals_home       </span> │ <span style=\"color: #008080; text-decoration-color: #008080\">   0</span> │ <span style=\"color: #008080; text-decoration-color: #008080\">     0</span> │ <span style=\"color: #008080; text-decoration-color: #008080\">  1.555</span> │ <span style=\"color: #008080; text-decoration-color: #008080\">  1.314</span> │ <span style=\"color: #008080; text-decoration-color: #008080\">     0</span> │ <span style=\"color: #008080; text-decoration-color: #008080\">     1</span> │ <span style=\"color: #008080; text-decoration-color: #008080\">     1</span> │ <span style=\"color: #008080; text-decoration-color: #008080\">    2</span> │ <span style=\"color: #008080; text-decoration-color: #008080\">    9</span> │ <span style=\"color: #008000; text-decoration-color: #008000\">  ▇▃▃  </span> │  │\n",
       "│ │ <span style=\"color: #af87ff; text-decoration-color: #af87ff\">goals_away       </span> │ <span style=\"color: #008080; text-decoration-color: #008080\">   0</span> │ <span style=\"color: #008080; text-decoration-color: #008080\">     0</span> │ <span style=\"color: #008080; text-decoration-color: #008080\">  1.171</span> │ <span style=\"color: #008080; text-decoration-color: #008080\">  1.159</span> │ <span style=\"color: #008080; text-decoration-color: #008080\">     0</span> │ <span style=\"color: #008080; text-decoration-color: #008080\">     0</span> │ <span style=\"color: #008080; text-decoration-color: #008080\">     1</span> │ <span style=\"color: #008080; text-decoration-color: #008080\">    2</span> │ <span style=\"color: #008080; text-decoration-color: #008080\">    7</span> │ <span style=\"color: #008000; text-decoration-color: #008000\">  ▇▂▁  </span> │  │\n",
       "│ │ <span style=\"color: #af87ff; text-decoration-color: #af87ff\">hometeam_uid     </span> │ <span style=\"color: #008080; text-decoration-color: #008080\">   0</span> │ <span style=\"color: #008080; text-decoration-color: #008080\">     0</span> │ <span style=\"color: #008080; text-decoration-color: #008080\">   19.5</span> │ <span style=\"color: #008080; text-decoration-color: #008080\">   10.3</span> │ <span style=\"color: #008080; text-decoration-color: #008080\">     1</span> │ <span style=\"color: #008080; text-decoration-color: #008080\">    12</span> │ <span style=\"color: #008080; text-decoration-color: #008080\">    19</span> │ <span style=\"color: #008080; text-decoration-color: #008080\">   29</span> │ <span style=\"color: #008080; text-decoration-color: #008080\">   36</span> │ <span style=\"color: #008000; text-decoration-color: #008000\">▆▆▇▇▇▇ </span> │  │\n",
       "│ │ <span style=\"color: #af87ff; text-decoration-color: #af87ff\">awayteam_uid     </span> │ <span style=\"color: #008080; text-decoration-color: #008080\">   0</span> │ <span style=\"color: #008080; text-decoration-color: #008080\">     0</span> │ <span style=\"color: #008080; text-decoration-color: #008080\">   19.5</span> │ <span style=\"color: #008080; text-decoration-color: #008080\">   10.3</span> │ <span style=\"color: #008080; text-decoration-color: #008080\">     1</span> │ <span style=\"color: #008080; text-decoration-color: #008080\">    12</span> │ <span style=\"color: #008080; text-decoration-color: #008080\">    19</span> │ <span style=\"color: #008080; text-decoration-color: #008080\">   29</span> │ <span style=\"color: #008080; text-decoration-color: #008080\">   36</span> │ <span style=\"color: #008000; text-decoration-color: #008000\">▆▆▇▇▇▇ </span> │  │\n",
       "│ └───────────────────┴──────┴────────┴─────────┴─────────┴────────┴────────┴────────┴───────┴───────┴─────────┘  │\n",
       "│ <span style=\"font-style: italic\">                                                    string                                                    </span>  │\n",
       "│ ┏━━━━━━━━━━━━━━━━━━━━━━━━━━━┳━━━━━━━━━┳━━━━━━━━━━━━┳━━━━━━━━━━━━━━━━━━━━━━━━━━━━━━┳━━━━━━━━━━━━━━━━━━━━━━━━━━┓  │\n",
       "│ ┃<span style=\"font-weight: bold\"> column_name               </span>┃<span style=\"font-weight: bold\"> NA      </span>┃<span style=\"font-weight: bold\"> NA %       </span>┃<span style=\"font-weight: bold\"> words per row                </span>┃<span style=\"font-weight: bold\"> total words              </span>┃  │\n",
       "│ ┡━━━━━━━━━━━━━━━━━━━━━━━━━━━╇━━━━━━━━━╇━━━━━━━━━━━━╇━━━━━━━━━━━━━━━━━━━━━━━━━━━━━━╇━━━━━━━━━━━━━━━━━━━━━━━━━━┩  │\n",
       "│ │ <span style=\"color: #af87ff; text-decoration-color: #af87ff\">div                      </span> │ <span style=\"color: #008080; text-decoration-color: #008080\">      0</span> │ <span style=\"color: #008080; text-decoration-color: #008080\">         0</span> │ <span style=\"color: #008080; text-decoration-color: #008080\">                           1</span> │ <span style=\"color: #008080; text-decoration-color: #008080\">                    4180</span> │  │\n",
       "│ │ <span style=\"color: #af87ff; text-decoration-color: #af87ff\">date                     </span> │ <span style=\"color: #008080; text-decoration-color: #008080\">      0</span> │ <span style=\"color: #008080; text-decoration-color: #008080\">         0</span> │ <span style=\"color: #008080; text-decoration-color: #008080\">                           1</span> │ <span style=\"color: #008080; text-decoration-color: #008080\">                    4180</span> │  │\n",
       "│ │ <span style=\"color: #af87ff; text-decoration-color: #af87ff\">team_home                </span> │ <span style=\"color: #008080; text-decoration-color: #008080\">      0</span> │ <span style=\"color: #008080; text-decoration-color: #008080\">         0</span> │ <span style=\"color: #008080; text-decoration-color: #008080\">                         1.2</span> │ <span style=\"color: #008080; text-decoration-color: #008080\">                    5225</span> │  │\n",
       "│ │ <span style=\"color: #af87ff; text-decoration-color: #af87ff\">team_away                </span> │ <span style=\"color: #008080; text-decoration-color: #008080\">      0</span> │ <span style=\"color: #008080; text-decoration-color: #008080\">         0</span> │ <span style=\"color: #008080; text-decoration-color: #008080\">                         1.2</span> │ <span style=\"color: #008080; text-decoration-color: #008080\">                    5225</span> │  │\n",
       "│ └───────────────────────────┴─────────┴────────────┴──────────────────────────────┴──────────────────────────┘  │\n",
       "╰────────────────────────────────────────────────────── End ──────────────────────────────────────────────────────╯\n",
       "</pre>\n"
      ],
      "text/plain": [
       "╭──────────────────────────────────────────────── skimpy summary ─────────────────────────────────────────────────╮\n",
       "│ \u001b[3m         Data Summary         \u001b[0m \u001b[3m      Data Types       \u001b[0m                                                          │\n",
       "│ ┏━━━━━━━━━━━━━━━━━━━┳━━━━━━━━┓ ┏━━━━━━━━━━━━━┳━━━━━━━┓                                                          │\n",
       "│ ┃\u001b[1;36m \u001b[0m\u001b[1;36mdataframe        \u001b[0m\u001b[1;36m \u001b[0m┃\u001b[1;36m \u001b[0m\u001b[1;36mValues\u001b[0m\u001b[1;36m \u001b[0m┃ ┃\u001b[1;36m \u001b[0m\u001b[1;36mColumn Type\u001b[0m\u001b[1;36m \u001b[0m┃\u001b[1;36m \u001b[0m\u001b[1;36mCount\u001b[0m\u001b[1;36m \u001b[0m┃                                                          │\n",
       "│ ┡━━━━━━━━━━━━━━━━━━━╇━━━━━━━━┩ ┡━━━━━━━━━━━━━╇━━━━━━━┩                                                          │\n",
       "│ │ Number of rows    │ 4180   │ │ string      │ 4     │                                                          │\n",
       "│ │ Number of columns │ 11     │ │ float64     │ 4     │                                                          │\n",
       "│ └───────────────────┴────────┘ │ int32       │ 3     │                                                          │\n",
       "│                                └─────────────┴───────┘                                                          │\n",
       "│ \u001b[3m                                                    number                                                    \u001b[0m  │\n",
       "│ ┏━━━━━━━━━━━━━━━━━━━┳━━━━━━┳━━━━━━━━┳━━━━━━━━━┳━━━━━━━━━┳━━━━━━━━┳━━━━━━━━┳━━━━━━━━┳━━━━━━━┳━━━━━━━┳━━━━━━━━━┓  │\n",
       "│ ┃\u001b[1m \u001b[0m\u001b[1mcolumn_name      \u001b[0m\u001b[1m \u001b[0m┃\u001b[1m \u001b[0m\u001b[1mNA  \u001b[0m\u001b[1m \u001b[0m┃\u001b[1m \u001b[0m\u001b[1mNA %  \u001b[0m\u001b[1m \u001b[0m┃\u001b[1m \u001b[0m\u001b[1mmean   \u001b[0m\u001b[1m \u001b[0m┃\u001b[1m \u001b[0m\u001b[1msd     \u001b[0m\u001b[1m \u001b[0m┃\u001b[1m \u001b[0m\u001b[1mp0    \u001b[0m\u001b[1m \u001b[0m┃\u001b[1m \u001b[0m\u001b[1mp25   \u001b[0m\u001b[1m \u001b[0m┃\u001b[1m \u001b[0m\u001b[1mp50   \u001b[0m\u001b[1m \u001b[0m┃\u001b[1m \u001b[0m\u001b[1mp75  \u001b[0m\u001b[1m \u001b[0m┃\u001b[1m \u001b[0m\u001b[1mp100 \u001b[0m\u001b[1m \u001b[0m┃\u001b[1m \u001b[0m\u001b[1mhist   \u001b[0m\u001b[1m \u001b[0m┃  │\n",
       "│ ┡━━━━━━━━━━━━━━━━━━━╇━━━━━━╇━━━━━━━━╇━━━━━━━━━╇━━━━━━━━━╇━━━━━━━━╇━━━━━━━━╇━━━━━━━━╇━━━━━━━╇━━━━━━━╇━━━━━━━━━┩  │\n",
       "│ │ \u001b[38;5;141mseason           \u001b[0m │ \u001b[36m   0\u001b[0m │ \u001b[36m     0\u001b[0m │ \u001b[36m   2013\u001b[0m │ \u001b[36m  3.163\u001b[0m │ \u001b[36m  2008\u001b[0m │ \u001b[36m  2010\u001b[0m │ \u001b[36m  2013\u001b[0m │ \u001b[36m 2016\u001b[0m │ \u001b[36m 2018\u001b[0m │ \u001b[32m▇▇▃▇▇▇ \u001b[0m │  │\n",
       "│ │ \u001b[38;5;141mpoints_home      \u001b[0m │ \u001b[36m   0\u001b[0m │ \u001b[36m     0\u001b[0m │ \u001b[36m  1.634\u001b[0m │ \u001b[36m  1.318\u001b[0m │ \u001b[36m     0\u001b[0m │ \u001b[36m     0\u001b[0m │ \u001b[36m     1\u001b[0m │ \u001b[36m    3\u001b[0m │ \u001b[36m    3\u001b[0m │ \u001b[32m▅ ▅  ▇ \u001b[0m │  │\n",
       "│ │ \u001b[38;5;141mpoints_away      \u001b[0m │ \u001b[36m   0\u001b[0m │ \u001b[36m     0\u001b[0m │ \u001b[36m  1.118\u001b[0m │ \u001b[36m  1.268\u001b[0m │ \u001b[36m     0\u001b[0m │ \u001b[36m     0\u001b[0m │ \u001b[36m     1\u001b[0m │ \u001b[36m    3\u001b[0m │ \u001b[36m    3\u001b[0m │ \u001b[32m▇ ▅  ▅ \u001b[0m │  │\n",
       "│ │ \u001b[38;5;141mgoals_home       \u001b[0m │ \u001b[36m   0\u001b[0m │ \u001b[36m     0\u001b[0m │ \u001b[36m  1.555\u001b[0m │ \u001b[36m  1.314\u001b[0m │ \u001b[36m     0\u001b[0m │ \u001b[36m     1\u001b[0m │ \u001b[36m     1\u001b[0m │ \u001b[36m    2\u001b[0m │ \u001b[36m    9\u001b[0m │ \u001b[32m  ▇▃▃  \u001b[0m │  │\n",
       "│ │ \u001b[38;5;141mgoals_away       \u001b[0m │ \u001b[36m   0\u001b[0m │ \u001b[36m     0\u001b[0m │ \u001b[36m  1.171\u001b[0m │ \u001b[36m  1.159\u001b[0m │ \u001b[36m     0\u001b[0m │ \u001b[36m     0\u001b[0m │ \u001b[36m     1\u001b[0m │ \u001b[36m    2\u001b[0m │ \u001b[36m    7\u001b[0m │ \u001b[32m  ▇▂▁  \u001b[0m │  │\n",
       "│ │ \u001b[38;5;141mhometeam_uid     \u001b[0m │ \u001b[36m   0\u001b[0m │ \u001b[36m     0\u001b[0m │ \u001b[36m   19.5\u001b[0m │ \u001b[36m   10.3\u001b[0m │ \u001b[36m     1\u001b[0m │ \u001b[36m    12\u001b[0m │ \u001b[36m    19\u001b[0m │ \u001b[36m   29\u001b[0m │ \u001b[36m   36\u001b[0m │ \u001b[32m▆▆▇▇▇▇ \u001b[0m │  │\n",
       "│ │ \u001b[38;5;141mawayteam_uid     \u001b[0m │ \u001b[36m   0\u001b[0m │ \u001b[36m     0\u001b[0m │ \u001b[36m   19.5\u001b[0m │ \u001b[36m   10.3\u001b[0m │ \u001b[36m     1\u001b[0m │ \u001b[36m    12\u001b[0m │ \u001b[36m    19\u001b[0m │ \u001b[36m   29\u001b[0m │ \u001b[36m   36\u001b[0m │ \u001b[32m▆▆▇▇▇▇ \u001b[0m │  │\n",
       "│ └───────────────────┴──────┴────────┴─────────┴─────────┴────────┴────────┴────────┴───────┴───────┴─────────┘  │\n",
       "│ \u001b[3m                                                    string                                                    \u001b[0m  │\n",
       "│ ┏━━━━━━━━━━━━━━━━━━━━━━━━━━━┳━━━━━━━━━┳━━━━━━━━━━━━┳━━━━━━━━━━━━━━━━━━━━━━━━━━━━━━┳━━━━━━━━━━━━━━━━━━━━━━━━━━┓  │\n",
       "│ ┃\u001b[1m \u001b[0m\u001b[1mcolumn_name              \u001b[0m\u001b[1m \u001b[0m┃\u001b[1m \u001b[0m\u001b[1mNA     \u001b[0m\u001b[1m \u001b[0m┃\u001b[1m \u001b[0m\u001b[1mNA %      \u001b[0m\u001b[1m \u001b[0m┃\u001b[1m \u001b[0m\u001b[1mwords per row               \u001b[0m\u001b[1m \u001b[0m┃\u001b[1m \u001b[0m\u001b[1mtotal words             \u001b[0m\u001b[1m \u001b[0m┃  │\n",
       "│ ┡━━━━━━━━━━━━━━━━━━━━━━━━━━━╇━━━━━━━━━╇━━━━━━━━━━━━╇━━━━━━━━━━━━━━━━━━━━━━━━━━━━━━╇━━━━━━━━━━━━━━━━━━━━━━━━━━┩  │\n",
       "│ │ \u001b[38;5;141mdiv                      \u001b[0m │ \u001b[36m      0\u001b[0m │ \u001b[36m         0\u001b[0m │ \u001b[36m                           1\u001b[0m │ \u001b[36m                    4180\u001b[0m │  │\n",
       "│ │ \u001b[38;5;141mdate                     \u001b[0m │ \u001b[36m      0\u001b[0m │ \u001b[36m         0\u001b[0m │ \u001b[36m                           1\u001b[0m │ \u001b[36m                    4180\u001b[0m │  │\n",
       "│ │ \u001b[38;5;141mteam_home                \u001b[0m │ \u001b[36m      0\u001b[0m │ \u001b[36m         0\u001b[0m │ \u001b[36m                         1.2\u001b[0m │ \u001b[36m                    5225\u001b[0m │  │\n",
       "│ │ \u001b[38;5;141mteam_away                \u001b[0m │ \u001b[36m      0\u001b[0m │ \u001b[36m         0\u001b[0m │ \u001b[36m                         1.2\u001b[0m │ \u001b[36m                    5225\u001b[0m │  │\n",
       "│ └───────────────────────────┴─────────┴────────────┴──────────────────────────────┴──────────────────────────┘  │\n",
       "╰────────────────────────────────────────────────────── End ──────────────────────────────────────────────────────╯\n"
      ]
     },
     "metadata": {},
     "output_type": "display_data"
    }
   ],
   "source": [
    "skim(data)"
   ]
  },
  {
   "cell_type": "code",
   "execution_count": 9,
   "id": "33425db7-304e-4cde-9197-f943f290e5e6",
   "metadata": {},
   "outputs": [
    {
     "data": {
      "text/html": [
       "<div>\n",
       "<style scoped>\n",
       "    .dataframe tbody tr th:only-of-type {\n",
       "        vertical-align: middle;\n",
       "    }\n",
       "\n",
       "    .dataframe tbody tr th {\n",
       "        vertical-align: top;\n",
       "    }\n",
       "\n",
       "    .dataframe thead th {\n",
       "        text-align: right;\n",
       "    }\n",
       "</style>\n",
       "<table border=\"1\" class=\"dataframe\">\n",
       "  <thead>\n",
       "    <tr style=\"text-align: right;\">\n",
       "      <th></th>\n",
       "      <th>mean_points_home</th>\n",
       "      <th>median_points_home</th>\n",
       "    </tr>\n",
       "    <tr>\n",
       "      <th>season</th>\n",
       "      <th></th>\n",
       "      <th></th>\n",
       "    </tr>\n",
       "  </thead>\n",
       "  <tbody>\n",
       "    <tr>\n",
       "      <th>2008</th>\n",
       "      <td>1.578947</td>\n",
       "      <td>1.0</td>\n",
       "    </tr>\n",
       "    <tr>\n",
       "      <th>2009</th>\n",
       "      <td>2.052632</td>\n",
       "      <td>3.0</td>\n",
       "    </tr>\n",
       "    <tr>\n",
       "      <th>2010</th>\n",
       "      <td>1.789474</td>\n",
       "      <td>1.0</td>\n",
       "    </tr>\n",
       "    <tr>\n",
       "      <th>2011</th>\n",
       "      <td>1.736842</td>\n",
       "      <td>3.0</td>\n",
       "    </tr>\n",
       "    <tr>\n",
       "      <th>2012</th>\n",
       "      <td>2.210526</td>\n",
       "      <td>3.0</td>\n",
       "    </tr>\n",
       "    <tr>\n",
       "      <th>2013</th>\n",
       "      <td>2.210526</td>\n",
       "      <td>3.0</td>\n",
       "    </tr>\n",
       "    <tr>\n",
       "      <th>2014</th>\n",
       "      <td>1.473684</td>\n",
       "      <td>1.0</td>\n",
       "    </tr>\n",
       "    <tr>\n",
       "      <th>2015</th>\n",
       "      <td>1.210526</td>\n",
       "      <td>1.0</td>\n",
       "    </tr>\n",
       "    <tr>\n",
       "      <th>2016</th>\n",
       "      <td>2.263158</td>\n",
       "      <td>3.0</td>\n",
       "    </tr>\n",
       "    <tr>\n",
       "      <th>2017</th>\n",
       "      <td>1.789474</td>\n",
       "      <td>3.0</td>\n",
       "    </tr>\n",
       "    <tr>\n",
       "      <th>2018</th>\n",
       "      <td>1.789474</td>\n",
       "      <td>3.0</td>\n",
       "    </tr>\n",
       "  </tbody>\n",
       "</table>\n",
       "</div>"
      ],
      "text/plain": [
       "        mean_points_home  median_points_home\n",
       "season                                      \n",
       "2008            1.578947                 1.0\n",
       "2009            2.052632                 3.0\n",
       "2010            1.789474                 1.0\n",
       "2011            1.736842                 3.0\n",
       "2012            2.210526                 3.0\n",
       "2013            2.210526                 3.0\n",
       "2014            1.473684                 1.0\n",
       "2015            1.210526                 1.0\n",
       "2016            2.263158                 3.0\n",
       "2017            1.789474                 3.0\n",
       "2018            1.789474                 3.0"
      ]
     },
     "execution_count": 9,
     "metadata": {},
     "output_type": "execute_result"
    }
   ],
   "source": [
    "data_sel = data[data['team_home'].isin(['Everton'])]\n",
    "\n",
    "data_sel.groupby([\"season\"]).agg(\n",
    "    mean_points_home=(\"points_home\", \"mean\"), median_points_home=(\"points_home\", \"median\")\n",
    ")"
   ]
  },
  {
   "cell_type": "code",
   "execution_count": 10,
   "id": "125963bc-d34d-49c0-b2bb-7e65821009f7",
   "metadata": {},
   "outputs": [],
   "source": [
    "data['month'] = data[\"date\"].str.split(\"-\").str[1]"
   ]
  },
  {
   "cell_type": "code",
   "execution_count": 11,
   "id": "d3254b44-7131-4c94-ae0f-bdafba843feb",
   "metadata": {},
   "outputs": [],
   "source": [
    "data['month'] = pd.to_numeric(data['month'], errors='coerce')"
   ]
  },
  {
   "cell_type": "code",
   "execution_count": 12,
   "id": "cbc54696-ed17-4195-972e-c1e2925f3edc",
   "metadata": {},
   "outputs": [],
   "source": [
    "data['day'] = data[\"date\"].str.split(\"-\").str[2]"
   ]
  },
  {
   "cell_type": "code",
   "execution_count": 13,
   "id": "66d48b72-2763-4fd0-b77b-e79e0f856e96",
   "metadata": {},
   "outputs": [],
   "source": [
    "data['day'] = pd.to_numeric(data['day'], errors='coerce')"
   ]
  },
  {
   "cell_type": "code",
   "execution_count": 14,
   "id": "b3025119-45e4-4b12-802e-fb29a1562b8b",
   "metadata": {},
   "outputs": [],
   "source": [
    "data['date'] = pd.to_datetime(data['date'])"
   ]
  },
  {
   "cell_type": "code",
   "execution_count": 15,
   "id": "9170ca29-429e-4970-976d-08907664a076",
   "metadata": {},
   "outputs": [],
   "source": [
    "data = data.drop(columns=['hometeam_uid', 'awayteam_uid'])"
   ]
  },
  {
   "cell_type": "code",
   "execution_count": 16,
   "id": "019029d3-ff68-49fb-bae8-5eee7ec97295",
   "metadata": {},
   "outputs": [],
   "source": [
    "data['goal_diff'] = pd.to_numeric(data['goals_home'] - data['goals_away'])"
   ]
  },
  {
   "cell_type": "code",
   "execution_count": 17,
   "id": "b7e80fd3-3f08-4596-9d13-5eb4de143b5a",
   "metadata": {},
   "outputs": [
    {
     "data": {
      "text/plain": [
       "team_home  season\n",
       "Arsenal    2008      38.0\n",
       "           2009      47.0\n",
       "           2010      37.0\n",
       "           2011      40.0\n",
       "           2012      38.0\n",
       "                     ... \n",
       "Wigan      2012      18.0\n",
       "Wolves     2009      21.0\n",
       "           2010      28.0\n",
       "           2011      12.0\n",
       "           2018      34.0\n",
       "Name: points_home, Length: 220, dtype: float64"
      ]
     },
     "execution_count": 17,
     "metadata": {},
     "output_type": "execute_result"
    }
   ],
   "source": [
    "a = data.groupby(['team_home', 'season'])['points_home'].sum()\n",
    "a"
   ]
  },
  {
   "cell_type": "code",
   "execution_count": 18,
   "id": "b6497d23-b6ec-4b48-931e-cdb2303034e1",
   "metadata": {},
   "outputs": [
    {
     "data": {
      "text/plain": [
       "team_home      season\n",
       "Arsenal        2008      38.0\n",
       "Aston Villa    2008      30.0\n",
       "Blackburn      2008      25.0\n",
       "Bolton         2008      26.0\n",
       "Chelsea        2008      39.0\n",
       "Everton        2008      30.0\n",
       "Fulham         2008      36.0\n",
       "Hull           2008      14.0\n",
       "Liverpool      2008      43.0\n",
       "Man City       2008      39.0\n",
       "Man United     2008      50.0\n",
       "Middlesbrough  2008      24.0\n",
       "Newcastle      2008      22.0\n",
       "Portsmouth     2008      27.0\n",
       "Stoke          2008      35.0\n",
       "Sunderland     2008      21.0\n",
       "Tottenham      2008      35.0\n",
       "West Brom      2008      24.0\n",
       "West Ham       2008      29.0\n",
       "Wigan          2008      29.0\n",
       "Name: points_home, dtype: float64"
      ]
     },
     "execution_count": 18,
     "metadata": {},
     "output_type": "execute_result"
    }
   ],
   "source": [
    "a_2008 = a.loc[(slice(None), [2008])]\n",
    "a_2008"
   ]
  },
  {
   "cell_type": "code",
   "execution_count": 19,
   "id": "0f359c96-2939-4409-a8c0-f208b4fe61ca",
   "metadata": {},
   "outputs": [
    {
     "data": {
      "text/plain": [
       "36"
      ]
     },
     "execution_count": 19,
     "metadata": {},
     "output_type": "execute_result"
    }
   ],
   "source": [
    "total_number_of_teams = data['team_home'].nunique()\n",
    "total_number_of_teams"
   ]
  },
  {
   "cell_type": "code",
   "execution_count": 20,
   "id": "2f4fbe03-ecd1-41a6-adea-4bb71bab8bf6",
   "metadata": {},
   "outputs": [],
   "source": [
    "#with pd.option_context('display.max_rows', None, 'display.max_columns', None):\n",
    "#    print(a_2008)"
   ]
  },
  {
   "cell_type": "code",
   "execution_count": 21,
   "id": "4b8ddf6f-a823-48fc-bd33-68b7fa0c378e",
   "metadata": {},
   "outputs": [
    {
     "data": {
      "text/html": [
       "<div>\n",
       "<style scoped>\n",
       "    .dataframe tbody tr th:only-of-type {\n",
       "        vertical-align: middle;\n",
       "    }\n",
       "\n",
       "    .dataframe tbody tr th {\n",
       "        vertical-align: top;\n",
       "    }\n",
       "\n",
       "    .dataframe thead th {\n",
       "        text-align: right;\n",
       "    }\n",
       "</style>\n",
       "<table border=\"1\" class=\"dataframe\">\n",
       "  <thead>\n",
       "    <tr style=\"text-align: right;\">\n",
       "      <th></th>\n",
       "      <th>div</th>\n",
       "      <th>season</th>\n",
       "      <th>date</th>\n",
       "      <th>team_home</th>\n",
       "      <th>team_away</th>\n",
       "      <th>points_home</th>\n",
       "      <th>points_away</th>\n",
       "      <th>goals_home</th>\n",
       "      <th>goals_away</th>\n",
       "      <th>month</th>\n",
       "      <th>day</th>\n",
       "      <th>goal_diff</th>\n",
       "    </tr>\n",
       "  </thead>\n",
       "  <tbody>\n",
       "    <tr>\n",
       "      <th>0</th>\n",
       "      <td>E0</td>\n",
       "      <td>2008</td>\n",
       "      <td>2008-08-16</td>\n",
       "      <td>Everton</td>\n",
       "      <td>Blackburn</td>\n",
       "      <td>0.0</td>\n",
       "      <td>3.0</td>\n",
       "      <td>2.0</td>\n",
       "      <td>3.0</td>\n",
       "      <td>8</td>\n",
       "      <td>16</td>\n",
       "      <td>-1.0</td>\n",
       "    </tr>\n",
       "    <tr>\n",
       "      <th>1</th>\n",
       "      <td>E0</td>\n",
       "      <td>2008</td>\n",
       "      <td>2008-08-16</td>\n",
       "      <td>Hull</td>\n",
       "      <td>Fulham</td>\n",
       "      <td>3.0</td>\n",
       "      <td>0.0</td>\n",
       "      <td>2.0</td>\n",
       "      <td>1.0</td>\n",
       "      <td>8</td>\n",
       "      <td>16</td>\n",
       "      <td>1.0</td>\n",
       "    </tr>\n",
       "  </tbody>\n",
       "</table>\n",
       "</div>"
      ],
      "text/plain": [
       "  div  season       date team_home  team_away  points_home  points_away  \\\n",
       "0  E0    2008 2008-08-16   Everton  Blackburn          0.0          3.0   \n",
       "1  E0    2008 2008-08-16      Hull     Fulham          3.0          0.0   \n",
       "\n",
       "   goals_home  goals_away  month  day  goal_diff  \n",
       "0         2.0         3.0      8   16       -1.0  \n",
       "1         2.0         1.0      8   16        1.0  "
      ]
     },
     "execution_count": 21,
     "metadata": {},
     "output_type": "execute_result"
    }
   ],
   "source": [
    "data.loc[[0, 1]]"
   ]
  },
  {
   "cell_type": "code",
   "execution_count": 22,
   "id": "407b0163-74fd-4548-a422-797b0960775f",
   "metadata": {},
   "outputs": [
    {
     "data": {
      "text/plain": [
       "(4180, 12)"
      ]
     },
     "execution_count": 22,
     "metadata": {},
     "output_type": "execute_result"
    }
   ],
   "source": [
    "data.shape"
   ]
  },
  {
   "cell_type": "markdown",
   "id": "fba33495-301f-460a-8977-93f824b79c63",
   "metadata": {},
   "source": [
    "## Data, lists and dictionaries"
   ]
  },
  {
   "cell_type": "code",
   "execution_count": 23,
   "id": "24597d92-4d6f-466f-bc33-e5ffc784ac8a",
   "metadata": {},
   "outputs": [
    {
     "data": {
      "text/plain": [
       "['Everton']"
      ]
     },
     "execution_count": 23,
     "metadata": {},
     "output_type": "execute_result"
    }
   ],
   "source": [
    "list_of_teams = data[\"team_home\"].unique().tolist()\n",
    "list_of_teams[0:1]"
   ]
  },
  {
   "cell_type": "code",
   "execution_count": 24,
   "id": "4f73ee73-decb-4b5d-9d62-f3c051c84049",
   "metadata": {},
   "outputs": [
    {
     "data": {
      "text/plain": [
       "['Middlesbrough', 'Arsenal', 'Aston Villa', 'Blackburn']"
      ]
     },
     "execution_count": 24,
     "metadata": {},
     "output_type": "execute_result"
    }
   ],
   "source": [
    "teams_with_a = [n for n in list_of_teams if 'A' in n or 'b' in n]\n",
    "teams_with_a"
   ]
  },
  {
   "cell_type": "code",
   "execution_count": 25,
   "id": "0485fb3b-5f79-46db-938a-e2346d17bb85",
   "metadata": {},
   "outputs": [
    {
     "data": {
      "text/html": [
       "<div>\n",
       "<style scoped>\n",
       "    .dataframe tbody tr th:only-of-type {\n",
       "        vertical-align: middle;\n",
       "    }\n",
       "\n",
       "    .dataframe tbody tr th {\n",
       "        vertical-align: top;\n",
       "    }\n",
       "\n",
       "    .dataframe thead th {\n",
       "        text-align: right;\n",
       "    }\n",
       "</style>\n",
       "<table border=\"1\" class=\"dataframe\">\n",
       "  <thead>\n",
       "    <tr style=\"text-align: right;\">\n",
       "      <th></th>\n",
       "      <th>div</th>\n",
       "      <th>season</th>\n",
       "      <th>date</th>\n",
       "      <th>team_home</th>\n",
       "      <th>team_away</th>\n",
       "      <th>points_home</th>\n",
       "      <th>points_away</th>\n",
       "      <th>goals_home</th>\n",
       "      <th>goals_away</th>\n",
       "      <th>month</th>\n",
       "      <th>day</th>\n",
       "      <th>goal_diff</th>\n",
       "    </tr>\n",
       "  </thead>\n",
       "  <tbody>\n",
       "    <tr>\n",
       "      <th>0</th>\n",
       "      <td>E0</td>\n",
       "      <td>2008</td>\n",
       "      <td>2008-08-16</td>\n",
       "      <td>Everton</td>\n",
       "      <td>Blackburn</td>\n",
       "      <td>0.0</td>\n",
       "      <td>3.0</td>\n",
       "      <td>2.0</td>\n",
       "      <td>3.0</td>\n",
       "      <td>8</td>\n",
       "      <td>16</td>\n",
       "      <td>-1.0</td>\n",
       "    </tr>\n",
       "    <tr>\n",
       "      <th>1</th>\n",
       "      <td>E0</td>\n",
       "      <td>2008</td>\n",
       "      <td>2008-08-16</td>\n",
       "      <td>Hull</td>\n",
       "      <td>Fulham</td>\n",
       "      <td>3.0</td>\n",
       "      <td>0.0</td>\n",
       "      <td>2.0</td>\n",
       "      <td>1.0</td>\n",
       "      <td>8</td>\n",
       "      <td>16</td>\n",
       "      <td>1.0</td>\n",
       "    </tr>\n",
       "    <tr>\n",
       "      <th>2</th>\n",
       "      <td>E0</td>\n",
       "      <td>2008</td>\n",
       "      <td>2008-08-16</td>\n",
       "      <td>Sunderland</td>\n",
       "      <td>Liverpool</td>\n",
       "      <td>0.0</td>\n",
       "      <td>3.0</td>\n",
       "      <td>0.0</td>\n",
       "      <td>1.0</td>\n",
       "      <td>8</td>\n",
       "      <td>16</td>\n",
       "      <td>-1.0</td>\n",
       "    </tr>\n",
       "    <tr>\n",
       "      <th>3</th>\n",
       "      <td>E0</td>\n",
       "      <td>2008</td>\n",
       "      <td>2008-08-16</td>\n",
       "      <td>Bolton</td>\n",
       "      <td>Stoke</td>\n",
       "      <td>3.0</td>\n",
       "      <td>0.0</td>\n",
       "      <td>3.0</td>\n",
       "      <td>1.0</td>\n",
       "      <td>8</td>\n",
       "      <td>16</td>\n",
       "      <td>2.0</td>\n",
       "    </tr>\n",
       "    <tr>\n",
       "      <th>4</th>\n",
       "      <td>E0</td>\n",
       "      <td>2008</td>\n",
       "      <td>2008-08-16</td>\n",
       "      <td>Middlesbrough</td>\n",
       "      <td>Tottenham</td>\n",
       "      <td>3.0</td>\n",
       "      <td>0.0</td>\n",
       "      <td>2.0</td>\n",
       "      <td>1.0</td>\n",
       "      <td>8</td>\n",
       "      <td>16</td>\n",
       "      <td>1.0</td>\n",
       "    </tr>\n",
       "    <tr>\n",
       "      <th>...</th>\n",
       "      <td>...</td>\n",
       "      <td>...</td>\n",
       "      <td>...</td>\n",
       "      <td>...</td>\n",
       "      <td>...</td>\n",
       "      <td>...</td>\n",
       "      <td>...</td>\n",
       "      <td>...</td>\n",
       "      <td>...</td>\n",
       "      <td>...</td>\n",
       "      <td>...</td>\n",
       "      <td>...</td>\n",
       "    </tr>\n",
       "    <tr>\n",
       "      <th>375</th>\n",
       "      <td>E0</td>\n",
       "      <td>2008</td>\n",
       "      <td>2009-05-24</td>\n",
       "      <td>Aston Villa</td>\n",
       "      <td>Newcastle</td>\n",
       "      <td>3.0</td>\n",
       "      <td>0.0</td>\n",
       "      <td>1.0</td>\n",
       "      <td>0.0</td>\n",
       "      <td>5</td>\n",
       "      <td>24</td>\n",
       "      <td>1.0</td>\n",
       "    </tr>\n",
       "    <tr>\n",
       "      <th>376</th>\n",
       "      <td>E0</td>\n",
       "      <td>2008</td>\n",
       "      <td>2009-05-24</td>\n",
       "      <td>Wigan</td>\n",
       "      <td>Portsmouth</td>\n",
       "      <td>3.0</td>\n",
       "      <td>0.0</td>\n",
       "      <td>1.0</td>\n",
       "      <td>0.0</td>\n",
       "      <td>5</td>\n",
       "      <td>24</td>\n",
       "      <td>1.0</td>\n",
       "    </tr>\n",
       "    <tr>\n",
       "      <th>377</th>\n",
       "      <td>E0</td>\n",
       "      <td>2008</td>\n",
       "      <td>2009-05-24</td>\n",
       "      <td>Arsenal</td>\n",
       "      <td>Stoke</td>\n",
       "      <td>3.0</td>\n",
       "      <td>0.0</td>\n",
       "      <td>4.0</td>\n",
       "      <td>1.0</td>\n",
       "      <td>5</td>\n",
       "      <td>24</td>\n",
       "      <td>3.0</td>\n",
       "    </tr>\n",
       "    <tr>\n",
       "      <th>378</th>\n",
       "      <td>E0</td>\n",
       "      <td>2008</td>\n",
       "      <td>2009-05-24</td>\n",
       "      <td>Liverpool</td>\n",
       "      <td>Tottenham</td>\n",
       "      <td>3.0</td>\n",
       "      <td>0.0</td>\n",
       "      <td>3.0</td>\n",
       "      <td>1.0</td>\n",
       "      <td>5</td>\n",
       "      <td>24</td>\n",
       "      <td>2.0</td>\n",
       "    </tr>\n",
       "    <tr>\n",
       "      <th>379</th>\n",
       "      <td>E0</td>\n",
       "      <td>2008</td>\n",
       "      <td>2009-05-24</td>\n",
       "      <td>Blackburn</td>\n",
       "      <td>West Brom</td>\n",
       "      <td>1.0</td>\n",
       "      <td>1.0</td>\n",
       "      <td>0.0</td>\n",
       "      <td>0.0</td>\n",
       "      <td>5</td>\n",
       "      <td>24</td>\n",
       "      <td>0.0</td>\n",
       "    </tr>\n",
       "  </tbody>\n",
       "</table>\n",
       "<p>380 rows × 12 columns</p>\n",
       "</div>"
      ],
      "text/plain": [
       "    div  season       date      team_home   team_away  points_home  \\\n",
       "0    E0    2008 2008-08-16        Everton   Blackburn          0.0   \n",
       "1    E0    2008 2008-08-16           Hull      Fulham          3.0   \n",
       "2    E0    2008 2008-08-16     Sunderland   Liverpool          0.0   \n",
       "3    E0    2008 2008-08-16         Bolton       Stoke          3.0   \n",
       "4    E0    2008 2008-08-16  Middlesbrough   Tottenham          3.0   \n",
       "..   ..     ...        ...            ...         ...          ...   \n",
       "375  E0    2008 2009-05-24    Aston Villa   Newcastle          3.0   \n",
       "376  E0    2008 2009-05-24          Wigan  Portsmouth          3.0   \n",
       "377  E0    2008 2009-05-24        Arsenal       Stoke          3.0   \n",
       "378  E0    2008 2009-05-24      Liverpool   Tottenham          3.0   \n",
       "379  E0    2008 2009-05-24      Blackburn   West Brom          1.0   \n",
       "\n",
       "     points_away  goals_home  goals_away  month  day  goal_diff  \n",
       "0            3.0         2.0         3.0      8   16       -1.0  \n",
       "1            0.0         2.0         1.0      8   16        1.0  \n",
       "2            3.0         0.0         1.0      8   16       -1.0  \n",
       "3            0.0         3.0         1.0      8   16        2.0  \n",
       "4            0.0         2.0         1.0      8   16        1.0  \n",
       "..           ...         ...         ...    ...  ...        ...  \n",
       "375          0.0         1.0         0.0      5   24        1.0  \n",
       "376          0.0         1.0         0.0      5   24        1.0  \n",
       "377          0.0         4.0         1.0      5   24        3.0  \n",
       "378          0.0         3.0         1.0      5   24        2.0  \n",
       "379          1.0         0.0         0.0      5   24        0.0  \n",
       "\n",
       "[380 rows x 12 columns]"
      ]
     },
     "execution_count": 25,
     "metadata": {},
     "output_type": "execute_result"
    }
   ],
   "source": [
    "selected_years = [2008]\n",
    "period = data[data['season'].isin(selected_years)]\n",
    "period"
   ]
  },
  {
   "cell_type": "code",
   "execution_count": 26,
   "id": "dcc0c710-d111-403a-b8a1-6ceba24b1714",
   "metadata": {},
   "outputs": [
    {
     "data": {
      "text/html": [
       "<div>\n",
       "<style scoped>\n",
       "    .dataframe tbody tr th:only-of-type {\n",
       "        vertical-align: middle;\n",
       "    }\n",
       "\n",
       "    .dataframe tbody tr th {\n",
       "        vertical-align: top;\n",
       "    }\n",
       "\n",
       "    .dataframe thead th {\n",
       "        text-align: right;\n",
       "    }\n",
       "</style>\n",
       "<table border=\"1\" class=\"dataframe\">\n",
       "  <thead>\n",
       "    <tr style=\"text-align: right;\">\n",
       "      <th></th>\n",
       "      <th>points_home</th>\n",
       "      <th>points_away</th>\n",
       "      <th>goals_home</th>\n",
       "      <th>goals_away</th>\n",
       "    </tr>\n",
       "  </thead>\n",
       "  <tbody>\n",
       "    <tr>\n",
       "      <th>Everton</th>\n",
       "      <td>382.0</td>\n",
       "      <td>190.0</td>\n",
       "      <td>358.0</td>\n",
       "      <td>225.0</td>\n",
       "    </tr>\n",
       "    <tr>\n",
       "      <th>Hull</th>\n",
       "      <td>111.0</td>\n",
       "      <td>150.0</td>\n",
       "      <td>107.0</td>\n",
       "      <td>145.0</td>\n",
       "    </tr>\n",
       "    <tr>\n",
       "      <th>Sunderland</th>\n",
       "      <td>208.0</td>\n",
       "      <td>253.0</td>\n",
       "      <td>200.0</td>\n",
       "      <td>215.0</td>\n",
       "    </tr>\n",
       "    <tr>\n",
       "      <th>Bolton</th>\n",
       "      <td>101.0</td>\n",
       "      <td>107.0</td>\n",
       "      <td>104.0</td>\n",
       "      <td>115.0</td>\n",
       "    </tr>\n",
       "    <tr>\n",
       "      <th>Middlesbrough</th>\n",
       "      <td>42.0</td>\n",
       "      <td>57.0</td>\n",
       "      <td>34.0</td>\n",
       "      <td>43.0</td>\n",
       "    </tr>\n",
       "    <tr>\n",
       "      <th>Arsenal</th>\n",
       "      <td>462.0</td>\n",
       "      <td>123.0</td>\n",
       "      <td>441.0</td>\n",
       "      <td>174.0</td>\n",
       "    </tr>\n",
       "    <tr>\n",
       "      <th>West Ham</th>\n",
       "      <td>280.0</td>\n",
       "      <td>244.0</td>\n",
       "      <td>270.0</td>\n",
       "      <td>258.0</td>\n",
       "    </tr>\n",
       "    <tr>\n",
       "      <th>Aston Villa</th>\n",
       "      <td>185.0</td>\n",
       "      <td>221.0</td>\n",
       "      <td>179.0</td>\n",
       "      <td>198.0</td>\n",
       "    </tr>\n",
       "    <tr>\n",
       "      <th>Man United</th>\n",
       "      <td>481.0</td>\n",
       "      <td>112.0</td>\n",
       "      <td>435.0</td>\n",
       "      <td>166.0</td>\n",
       "    </tr>\n",
       "    <tr>\n",
       "      <th>Chelsea</th>\n",
       "      <td>467.0</td>\n",
       "      <td>116.0</td>\n",
       "      <td>457.0</td>\n",
       "      <td>174.0</td>\n",
       "    </tr>\n",
       "    <tr>\n",
       "      <th>Fulham</th>\n",
       "      <td>201.0</td>\n",
       "      <td>171.0</td>\n",
       "      <td>195.0</td>\n",
       "      <td>184.0</td>\n",
       "    </tr>\n",
       "    <tr>\n",
       "      <th>Stoke</th>\n",
       "      <td>297.0</td>\n",
       "      <td>219.0</td>\n",
       "      <td>248.0</td>\n",
       "      <td>213.0</td>\n",
       "    </tr>\n",
       "    <tr>\n",
       "      <th>Newcastle</th>\n",
       "      <td>248.0</td>\n",
       "      <td>224.0</td>\n",
       "      <td>244.0</td>\n",
       "      <td>225.0</td>\n",
       "    </tr>\n",
       "    <tr>\n",
       "      <th>West Brom</th>\n",
       "      <td>222.0</td>\n",
       "      <td>246.0</td>\n",
       "      <td>225.0</td>\n",
       "      <td>240.0</td>\n",
       "    </tr>\n",
       "    <tr>\n",
       "      <th>Blackburn</th>\n",
       "      <td>108.0</td>\n",
       "      <td>99.0</td>\n",
       "      <td>98.0</td>\n",
       "      <td>90.0</td>\n",
       "    </tr>\n",
       "    <tr>\n",
       "      <th>Liverpool</th>\n",
       "      <td>438.0</td>\n",
       "      <td>132.0</td>\n",
       "      <td>439.0</td>\n",
       "      <td>172.0</td>\n",
       "    </tr>\n",
       "    <tr>\n",
       "      <th>Tottenham</th>\n",
       "      <td>434.0</td>\n",
       "      <td>149.0</td>\n",
       "      <td>376.0</td>\n",
       "      <td>179.0</td>\n",
       "    </tr>\n",
       "    <tr>\n",
       "      <th>Wigan</th>\n",
       "      <td>117.0</td>\n",
       "      <td>135.0</td>\n",
       "      <td>106.0</td>\n",
       "      <td>142.0</td>\n",
       "    </tr>\n",
       "    <tr>\n",
       "      <th>Man City</th>\n",
       "      <td>501.0</td>\n",
       "      <td>99.0</td>\n",
       "      <td>520.0</td>\n",
       "      <td>168.0</td>\n",
       "    </tr>\n",
       "    <tr>\n",
       "      <th>Portsmouth</th>\n",
       "      <td>45.0</td>\n",
       "      <td>63.0</td>\n",
       "      <td>50.0</td>\n",
       "      <td>61.0</td>\n",
       "    </tr>\n",
       "    <tr>\n",
       "      <th>Wolves</th>\n",
       "      <td>95.0</td>\n",
       "      <td>116.0</td>\n",
       "      <td>90.0</td>\n",
       "      <td>116.0</td>\n",
       "    </tr>\n",
       "    <tr>\n",
       "      <th>Burnley</th>\n",
       "      <td>127.0</td>\n",
       "      <td>136.0</td>\n",
       "      <td>105.0</td>\n",
       "      <td>120.0</td>\n",
       "    </tr>\n",
       "    <tr>\n",
       "      <th>Birmingham</th>\n",
       "      <td>59.0</td>\n",
       "      <td>38.0</td>\n",
       "      <td>38.0</td>\n",
       "      <td>35.0</td>\n",
       "    </tr>\n",
       "    <tr>\n",
       "      <th>Blackpool</th>\n",
       "      <td>20.0</td>\n",
       "      <td>32.0</td>\n",
       "      <td>30.0</td>\n",
       "      <td>37.0</td>\n",
       "    </tr>\n",
       "    <tr>\n",
       "      <th>QPR</th>\n",
       "      <td>63.0</td>\n",
       "      <td>90.0</td>\n",
       "      <td>60.0</td>\n",
       "      <td>77.0</td>\n",
       "    </tr>\n",
       "    <tr>\n",
       "      <th>Swansea</th>\n",
       "      <td>190.0</td>\n",
       "      <td>172.0</td>\n",
       "      <td>179.0</td>\n",
       "      <td>170.0</td>\n",
       "    </tr>\n",
       "    <tr>\n",
       "      <th>Norwich</th>\n",
       "      <td>105.0</td>\n",
       "      <td>99.0</td>\n",
       "      <td>96.0</td>\n",
       "      <td>98.0</td>\n",
       "    </tr>\n",
       "    <tr>\n",
       "      <th>Reading</th>\n",
       "      <td>20.0</td>\n",
       "      <td>29.0</td>\n",
       "      <td>23.0</td>\n",
       "      <td>33.0</td>\n",
       "    </tr>\n",
       "    <tr>\n",
       "      <th>Southampton</th>\n",
       "      <td>194.0</td>\n",
       "      <td>164.0</td>\n",
       "      <td>198.0</td>\n",
       "      <td>159.0</td>\n",
       "    </tr>\n",
       "    <tr>\n",
       "      <th>Crystal Palace</th>\n",
       "      <td>135.0</td>\n",
       "      <td>186.0</td>\n",
       "      <td>130.0</td>\n",
       "      <td>148.0</td>\n",
       "    </tr>\n",
       "    <tr>\n",
       "      <th>Cardiff</th>\n",
       "      <td>40.0</td>\n",
       "      <td>67.0</td>\n",
       "      <td>41.0</td>\n",
       "      <td>73.0</td>\n",
       "    </tr>\n",
       "    <tr>\n",
       "      <th>Leicester</th>\n",
       "      <td>156.0</td>\n",
       "      <td>105.0</td>\n",
       "      <td>143.0</td>\n",
       "      <td>107.0</td>\n",
       "    </tr>\n",
       "    <tr>\n",
       "      <th>Bournemouth</th>\n",
       "      <td>106.0</td>\n",
       "      <td>103.0</td>\n",
       "      <td>114.0</td>\n",
       "      <td>118.0</td>\n",
       "    </tr>\n",
       "    <tr>\n",
       "      <th>Watford</th>\n",
       "      <td>106.0</td>\n",
       "      <td>103.0</td>\n",
       "      <td>98.0</td>\n",
       "      <td>107.0</td>\n",
       "    </tr>\n",
       "    <tr>\n",
       "      <th>Brighton</th>\n",
       "      <td>52.0</td>\n",
       "      <td>49.0</td>\n",
       "      <td>43.0</td>\n",
       "      <td>53.0</td>\n",
       "    </tr>\n",
       "    <tr>\n",
       "      <th>Huddersfield</th>\n",
       "      <td>32.0</td>\n",
       "      <td>74.0</td>\n",
       "      <td>26.0</td>\n",
       "      <td>56.0</td>\n",
       "    </tr>\n",
       "  </tbody>\n",
       "</table>\n",
       "</div>"
      ],
      "text/plain": [
       "               points_home points_away goals_home goals_away\n",
       "Everton              382.0       190.0      358.0      225.0\n",
       "Hull                 111.0       150.0      107.0      145.0\n",
       "Sunderland           208.0       253.0      200.0      215.0\n",
       "Bolton               101.0       107.0      104.0      115.0\n",
       "Middlesbrough         42.0        57.0       34.0       43.0\n",
       "Arsenal              462.0       123.0      441.0      174.0\n",
       "West Ham             280.0       244.0      270.0      258.0\n",
       "Aston Villa          185.0       221.0      179.0      198.0\n",
       "Man United           481.0       112.0      435.0      166.0\n",
       "Chelsea              467.0       116.0      457.0      174.0\n",
       "Fulham               201.0       171.0      195.0      184.0\n",
       "Stoke                297.0       219.0      248.0      213.0\n",
       "Newcastle            248.0       224.0      244.0      225.0\n",
       "West Brom            222.0       246.0      225.0      240.0\n",
       "Blackburn            108.0        99.0       98.0       90.0\n",
       "Liverpool            438.0       132.0      439.0      172.0\n",
       "Tottenham            434.0       149.0      376.0      179.0\n",
       "Wigan                117.0       135.0      106.0      142.0\n",
       "Man City             501.0        99.0      520.0      168.0\n",
       "Portsmouth            45.0        63.0       50.0       61.0\n",
       "Wolves                95.0       116.0       90.0      116.0\n",
       "Burnley              127.0       136.0      105.0      120.0\n",
       "Birmingham            59.0        38.0       38.0       35.0\n",
       "Blackpool             20.0        32.0       30.0       37.0\n",
       "QPR                   63.0        90.0       60.0       77.0\n",
       "Swansea              190.0       172.0      179.0      170.0\n",
       "Norwich              105.0        99.0       96.0       98.0\n",
       "Reading               20.0        29.0       23.0       33.0\n",
       "Southampton          194.0       164.0      198.0      159.0\n",
       "Crystal Palace       135.0       186.0      130.0      148.0\n",
       "Cardiff               40.0        67.0       41.0       73.0\n",
       "Leicester            156.0       105.0      143.0      107.0\n",
       "Bournemouth          106.0       103.0      114.0      118.0\n",
       "Watford              106.0       103.0       98.0      107.0\n",
       "Brighton              52.0        49.0       43.0       53.0\n",
       "Huddersfield          32.0        74.0       26.0       56.0"
      ]
     },
     "execution_count": 26,
     "metadata": {},
     "output_type": "execute_result"
    }
   ],
   "source": [
    "indices = []\n",
    "\n",
    "#Data limitation by years and months\n",
    "selected_years = list(range(2008, 2019)) \n",
    "selected_month = list(range(1, 13))\n",
    "data3 = data[data['season'].isin(selected_years) & data['month'].isin(selected_month)]\n",
    "\n",
    "#Choosing desired metrics\n",
    "var = data3.columns.tolist()[5:9]\n",
    "\n",
    "#Output in separated Dataframe\n",
    "for i in var:\n",
    "    team_points_dictionary = {\n",
    "        n: data3.loc[(data3['team_home'] == n), i].sum() \n",
    "        for n in list_of_teams\n",
    "    }\n",
    "    indices.append({'': i, **team_points_dictionary})\n",
    "\n",
    "df_math = pd.DataFrame(indices).T\n",
    "\n",
    "df_math.columns = df_math.iloc[0]  \n",
    "df_math = df_math[1:] \n",
    "\n",
    "df_math"
   ]
  },
  {
   "cell_type": "code",
   "execution_count": 27,
   "id": "ae878306-f47c-41b9-8d3f-84f932dbb238",
   "metadata": {},
   "outputs": [
    {
     "name": "stdout",
     "output_type": "stream",
     "text": [
      "['Crystal Palace', 'Cardiff', 'Fulham']\n"
     ]
    }
   ],
   "source": [
    "import random\n",
    "number = 3\n",
    "if number > total_number_of_teams:\n",
    "    print('There are less teams in championship')\n",
    "else:\n",
    "    keys1 = random.sample(list(team_points_dictionary.keys()), number)\n",
    "    print(keys1)"
   ]
  },
  {
   "cell_type": "code",
   "execution_count": 28,
   "id": "7e1e5a20-de6c-4a8b-b49f-5e1e6d0fb442",
   "metadata": {},
   "outputs": [
    {
     "data": {
      "text/html": [
       "<div>\n",
       "<style scoped>\n",
       "    .dataframe tbody tr th:only-of-type {\n",
       "        vertical-align: middle;\n",
       "    }\n",
       "\n",
       "    .dataframe tbody tr th {\n",
       "        vertical-align: top;\n",
       "    }\n",
       "\n",
       "    .dataframe thead th {\n",
       "        text-align: right;\n",
       "    }\n",
       "</style>\n",
       "<table border=\"1\" class=\"dataframe\">\n",
       "  <thead>\n",
       "    <tr style=\"text-align: right;\">\n",
       "      <th></th>\n",
       "      <th>points_home</th>\n",
       "      <th>points_away</th>\n",
       "      <th>goals_home</th>\n",
       "      <th>goals_away</th>\n",
       "    </tr>\n",
       "  </thead>\n",
       "  <tbody>\n",
       "    <tr>\n",
       "      <th>Crystal Palace</th>\n",
       "      <td>135.0</td>\n",
       "      <td>186.0</td>\n",
       "      <td>130.0</td>\n",
       "      <td>148.0</td>\n",
       "    </tr>\n",
       "    <tr>\n",
       "      <th>Cardiff</th>\n",
       "      <td>40.0</td>\n",
       "      <td>67.0</td>\n",
       "      <td>41.0</td>\n",
       "      <td>73.0</td>\n",
       "    </tr>\n",
       "    <tr>\n",
       "      <th>Fulham</th>\n",
       "      <td>201.0</td>\n",
       "      <td>171.0</td>\n",
       "      <td>195.0</td>\n",
       "      <td>184.0</td>\n",
       "    </tr>\n",
       "  </tbody>\n",
       "</table>\n",
       "</div>"
      ],
      "text/plain": [
       "               points_home points_away goals_home goals_away\n",
       "Crystal Palace       135.0       186.0      130.0      148.0\n",
       "Cardiff               40.0        67.0       41.0       73.0\n",
       "Fulham               201.0       171.0      195.0      184.0"
      ]
     },
     "execution_count": 28,
     "metadata": {},
     "output_type": "execute_result"
    }
   ],
   "source": [
    "df_math.loc[keys1]"
   ]
  },
  {
   "cell_type": "code",
   "execution_count": 30,
   "id": "6c87b2d8-440d-4ddf-bd8b-ebcd3c52e9a8",
   "metadata": {},
   "outputs": [
    {
     "name": "stdout",
     "output_type": "stream",
     "text": [
      "{'Crystal Palace': 148.0, 'Cardiff': 73.0, 'Fulham': 184.0}\n"
     ]
    }
   ],
   "source": [
    "random_teams = {a: team_points_dictionary[a] for a in keys1}\n",
    "print(random_teams)"
   ]
  },
  {
   "cell_type": "code",
   "execution_count": 31,
   "id": "27db613c-f3a9-4f48-8e4f-39b3f70d77a7",
   "metadata": {},
   "outputs": [
    {
     "data": {
      "text/html": [
       "<div>\n",
       "<style scoped>\n",
       "    .dataframe tbody tr th:only-of-type {\n",
       "        vertical-align: middle;\n",
       "    }\n",
       "\n",
       "    .dataframe tbody tr th {\n",
       "        vertical-align: top;\n",
       "    }\n",
       "\n",
       "    .dataframe thead th {\n",
       "        text-align: right;\n",
       "    }\n",
       "</style>\n",
       "<table border=\"1\" class=\"dataframe\">\n",
       "  <thead>\n",
       "    <tr style=\"text-align: right;\">\n",
       "      <th></th>\n",
       "      <th>Team</th>\n",
       "      <th>Points</th>\n",
       "    </tr>\n",
       "  </thead>\n",
       "  <tbody>\n",
       "    <tr>\n",
       "      <th>0</th>\n",
       "      <td>Crystal Palace</td>\n",
       "      <td>148.0</td>\n",
       "    </tr>\n",
       "    <tr>\n",
       "      <th>1</th>\n",
       "      <td>Cardiff</td>\n",
       "      <td>73.0</td>\n",
       "    </tr>\n",
       "    <tr>\n",
       "      <th>2</th>\n",
       "      <td>Fulham</td>\n",
       "      <td>184.0</td>\n",
       "    </tr>\n",
       "  </tbody>\n",
       "</table>\n",
       "</div>"
      ],
      "text/plain": [
       "             Team  Points\n",
       "0  Crystal Palace   148.0\n",
       "1         Cardiff    73.0\n",
       "2          Fulham   184.0"
      ]
     },
     "execution_count": 31,
     "metadata": {},
     "output_type": "execute_result"
    }
   ],
   "source": [
    "df_new = pd.DataFrame.from_dict(random_teams, orient = 'index', columns=['Points'])\n",
    "df_new.reset_index(inplace = True)\n",
    "df_new.rename(columns={'index': 'Team'}, inplace = True)\n",
    "df_new"
   ]
  },
  {
   "cell_type": "code",
   "execution_count": 32,
   "id": "7cd0ba11-2128-4f73-90ed-2123494b3293",
   "metadata": {},
   "outputs": [
    {
     "data": {
      "text/plain": [
       "[148.0, 73.0, 184.0]"
      ]
     },
     "execution_count": 32,
     "metadata": {},
     "output_type": "execute_result"
    }
   ],
   "source": [
    "#Let's convert this dictionary into two separated lists\n",
    "list1 = list(random_teams.values())\n",
    "list1"
   ]
  },
  {
   "cell_type": "code",
   "execution_count": 33,
   "id": "b276bd6d-418c-4f91-a9b9-765383eca740",
   "metadata": {},
   "outputs": [
    {
     "name": "stdout",
     "output_type": "stream",
     "text": [
      "[148.0, 73.0, 184.0]\n"
     ]
    }
   ],
   "source": [
    "list1 = [float(i) for i in list1]\n",
    "print(list1)"
   ]
  },
  {
   "cell_type": "code",
   "execution_count": 34,
   "id": "421bbb02-9d23-470f-926d-ee2f1881492c",
   "metadata": {},
   "outputs": [
    {
     "data": {
      "text/plain": [
       "['Crystal Palace', 'Cardiff', 'Fulham']"
      ]
     },
     "execution_count": 34,
     "metadata": {},
     "output_type": "execute_result"
    }
   ],
   "source": [
    "list2 = list(random_teams.keys())\n",
    "list2"
   ]
  },
  {
   "cell_type": "markdown",
   "id": "85f27fb2-68e3-453b-a91a-936a8e0f9b3d",
   "metadata": {},
   "source": [
    "### Additional example \"for\" loop"
   ]
  },
  {
   "cell_type": "code",
   "execution_count": 35,
   "id": "68c36238-f9e3-4ab1-9496-18bace4841ec",
   "metadata": {},
   "outputs": [],
   "source": [
    "years = data['season'].unique().tolist()[0:2]"
   ]
  },
  {
   "cell_type": "code",
   "execution_count": 36,
   "id": "2f30e180-35c1-4782-a285-044611e505f8",
   "metadata": {
    "scrolled": true
   },
   "outputs": [
    {
     "data": {
      "text/plain": [
       "[2008, 2009]"
      ]
     },
     "execution_count": 36,
     "metadata": {},
     "output_type": "execute_result"
    }
   ],
   "source": [
    "years"
   ]
  },
  {
   "cell_type": "code",
   "execution_count": 37,
   "id": "5ba185b9-0f9b-4a2d-8a8b-0d11dda42057",
   "metadata": {},
   "outputs": [
    {
     "name": "stdout",
     "output_type": "stream",
     "text": [
      "team_home      season\n",
      "Arsenal        2008      38.0\n",
      "Aston Villa    2008      30.0\n",
      "Blackburn      2008      25.0\n",
      "Bolton         2008      26.0\n",
      "Chelsea        2008      39.0\n",
      "Everton        2008      30.0\n",
      "Fulham         2008      36.0\n",
      "Hull           2008      14.0\n",
      "Liverpool      2008      43.0\n",
      "Man City       2008      39.0\n",
      "Man United     2008      50.0\n",
      "Middlesbrough  2008      24.0\n",
      "Newcastle      2008      22.0\n",
      "Portsmouth     2008      27.0\n",
      "Stoke          2008      35.0\n",
      "Sunderland     2008      21.0\n",
      "Tottenham      2008      35.0\n",
      "West Brom      2008      24.0\n",
      "West Ham       2008      29.0\n",
      "Wigan          2008      29.0\n",
      "Name: points_home, dtype: float64\n",
      "team_home    season\n",
      "Arsenal      2009      47.0\n",
      "Aston Villa  2009      32.0\n",
      "Birmingham   2009      33.0\n",
      "Blackburn    2009      36.0\n",
      "Bolton       2009      24.0\n",
      "Burnley      2009      26.0\n",
      "Chelsea      2009      52.0\n",
      "Everton      2009      39.0\n",
      "Fulham       2009      36.0\n",
      "Hull         2009      24.0\n",
      "Liverpool    2009      42.0\n",
      "Man City     2009      40.0\n",
      "Man United   2009      49.0\n",
      "Portsmouth   2009      18.0\n",
      "Stoke        2009      27.0\n",
      "Sunderland   2009      34.0\n",
      "Tottenham    2009      44.0\n",
      "West Ham     2009      26.0\n",
      "Wigan        2009      25.0\n",
      "Wolves       2009      21.0\n",
      "Name: points_home, dtype: float64\n"
     ]
    }
   ],
   "source": [
    "for i in years:\n",
    "    data.groupby(['team_home', 'season'])['points_home'].sum()\n",
    "    a_i = a.loc[(slice(None), [i])]\n",
    "    print(a_i)"
   ]
  },
  {
   "cell_type": "code",
   "execution_count": 38,
   "id": "dcd6a3a0-ebca-4fce-8665-962947d0c72e",
   "metadata": {},
   "outputs": [
    {
     "name": "stdout",
     "output_type": "stream",
     "text": [
      "team_home  season\n",
      "Arsenal    2008      38.0\n",
      "Name: points_home, dtype: float64\n",
      "team_home  season\n",
      "Arsenal    2009      47.0\n",
      "Name: points_home, dtype: float64\n",
      "team_home  season\n",
      "Arsenal    2010      37.0\n",
      "Name: points_home, dtype: float64\n",
      "team_home  season\n",
      "Arsenal    2011      40.0\n",
      "Name: points_home, dtype: float64\n",
      "team_home  season\n",
      "Arsenal    2012      38.0\n",
      "Name: points_home, dtype: float64\n",
      "team_home  season\n",
      "Arsenal    2013      44.0\n",
      "Name: points_home, dtype: float64\n",
      "team_home  season\n",
      "Arsenal    2014      41.0\n",
      "Name: points_home, dtype: float64\n",
      "team_home  season\n",
      "Arsenal    2015      40.0\n",
      "Name: points_home, dtype: float64\n",
      "team_home  season\n",
      "Arsenal    2016      45.0\n",
      "Name: points_home, dtype: float64\n",
      "team_home  season\n",
      "Arsenal    2017      47.0\n",
      "Name: points_home, dtype: float64\n",
      "team_home  season\n",
      "Arsenal    2018      45.0\n",
      "Name: points_home, dtype: float64\n"
     ]
    }
   ],
   "source": [
    "years2 = data['season'].unique().tolist()[0:]\n",
    "for i in years2:\n",
    "    data.groupby(['team_home', 'season'])['points_home'].sum()\n",
    "    a_i = a.loc[('Arsenal', [i])]\n",
    "    print(a_i)"
   ]
  },
  {
   "cell_type": "code",
   "execution_count": 39,
   "id": "c600ae9a-46e3-48bf-b072-31551c3d94e9",
   "metadata": {},
   "outputs": [
    {
     "name": "stdout",
     "output_type": "stream",
     "text": [
      "    season  points_home\n",
      "0     2008         38.0\n",
      "1     2009         47.0\n",
      "2     2010         37.0\n",
      "3     2011         40.0\n",
      "4     2012         38.0\n",
      "5     2013         44.0\n",
      "6     2014         41.0\n",
      "7     2015         40.0\n",
      "8     2016         45.0\n",
      "9     2017         47.0\n",
      "10    2018         45.0\n"
     ]
    }
   ],
   "source": [
    "listy = []\n",
    "team = ['Arsenal']\n",
    "for i in years2:\n",
    "        a_i = a.loc[(team[0], i)]\n",
    "        listy.append({'season': i, 'points_home': a_i})\n",
    "\n",
    "df = pd.DataFrame(listy)\n",
    "print(df)"
   ]
  },
  {
   "cell_type": "markdown",
   "id": "0b267f6f-a8dd-40c4-8ab8-2e49b23691b9",
   "metadata": {},
   "source": [
    "## Graphs"
   ]
  },
  {
   "cell_type": "code",
   "execution_count": 45,
   "id": "6695cc35-5f27-4785-a9c6-3fde47bc7ecc",
   "metadata": {},
   "outputs": [],
   "source": [
    "from plotnine import *\n",
    "import matplotlib.pyplot as plt\n",
    "import warnings\n",
    "\n",
    "%matplotlib inline\n",
    "warnings.filterwarnings(\"ignore\")"
   ]
  },
  {
   "cell_type": "code",
   "execution_count": 99,
   "id": "ba312040-4da7-4740-8233-101a6ea9699c",
   "metadata": {},
   "outputs": [
    {
     "data": {
      "image/png": "[encoded data removed]"
     },
     "metadata": {
      "image/png": {
       "height": 480,
       "width": 640
      }
     },
     "output_type": "display_data"
    }
   ],
   "source": [
    "graph_data0 = data[(data['team_home'] == 'Man United')]\n",
    "summary0 = graph_data0.groupby('season')[['goals_home']].sum().reset_index()\n",
    "\n",
    "plot = (ggplot(summary0, aes(x = 'factor(season)', y = 'goals_home')) +\n",
    "        geom_bar(stat = 'identity', position = position_dodge()) +\n",
    "        labs(title = 'MU home goals by seasons',\n",
    "             x = 'season',\n",
    "             y = 'total goals') +\n",
    "        theme_minimal())\n",
    "plot"
   ]
  },
  {
   "cell_type": "code",
   "execution_count": 101,
   "id": "1278e620-e973-48ab-8e85-c1a7356a005a",
   "metadata": {},
   "outputs": [],
   "source": [
    "graph_data = data[(data['team_home'] == 'Everton')]\n",
    "graph_data['goal_diff'] = graph_data['goal_diff'].astype(int) "
   ]
  },
  {
   "cell_type": "code",
   "execution_count": 42,
   "id": "fa066351-ffe3-4b69-bf9f-82e3d10b4c74",
   "metadata": {},
   "outputs": [
    {
     "data": {
      "text/plain": [
       "div                    object\n",
       "season                  int64\n",
       "date           datetime64[ns]\n",
       "team_home              object\n",
       "team_away              object\n",
       "points_home           float64\n",
       "points_away           float64\n",
       "goals_home            float64\n",
       "goals_away            float64\n",
       "month                   int64\n",
       "day                     int64\n",
       "goal_diff               int32\n",
       "dtype: object"
      ]
     },
     "execution_count": 42,
     "metadata": {},
     "output_type": "execute_result"
    }
   ],
   "source": [
    "graph_data.dtypes"
   ]
  },
  {
   "cell_type": "code",
   "execution_count": 100,
   "id": "44f93173-3317-4455-8918-0d38556578e0",
   "metadata": {},
   "outputs": [
    {
     "data": {
      "image/png": "[encoded data removed]"
     },
     "metadata": {
      "image/png": {
       "height": 480,
       "width": 640
      }
     },
     "output_type": "display_data"
    }
   ],
   "source": [
    "summary = graph_data.groupby('season')[['points_home', 'points_away']].sum().reset_index()\n",
    "\n",
    "summary_melted = summary.melt(id_vars = 'season', var_name = 'point_type', value_name = 'points')\n",
    "\n",
    "plot = (ggplot(summary_melted, aes(x = 'factor(season)', y = 'points', fill = 'point_type')) +\n",
    "        geom_bar(stat = 'identity', position = position_dodge()) +\n",
    "        labs(title = 'Eve points home vs points away by season',\n",
    "             x = 'season',\n",
    "             y = 'total points') +\n",
    "        theme_minimal())\n",
    "plot"
   ]
  },
  {
   "cell_type": "code",
   "execution_count": null,
   "id": "59c8c402-4cac-4c4d-80a8-e5d5dd9332e9",
   "metadata": {},
   "outputs": [],
   "source": []
  },
  {
   "cell_type": "code",
   "execution_count": null,
   "id": "ad8cc88c-c5e8-4987-b2ca-334dfaa9b968",
   "metadata": {},
   "outputs": [],
   "source": []
  }
 ],
 "metadata": {
  "kernelspec": {
   "display_name": "Python 3 (ipykernel)",
   "language": "python",
   "name": "python3"
  },
  "language_info": {
   "codemirror_mode": {
    "name": "ipython",
    "version": 3
   },
   "file_extension": ".py",
   "mimetype": "text/x-python",
   "name": "python",
   "nbconvert_exporter": "python",
   "pygments_lexer": "ipython3",
   "version": "3.11.0"
  }
 },
 "nbformat": 4,
 "nbformat_minor": 5
}
