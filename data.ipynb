{
 "cells": [
  {
   "cell_type": "code",
   "execution_count": 1,
   "id": "4c86efec-c452-4eee-a073-a3d8722c55dd",
   "metadata": {},
   "outputs": [
    {
     "name": "stdout",
     "output_type": "stream",
     "text": [
      "Requirement already satisfied: pandas in c:\\users\\пользователь\\appdata\\local\\programs\\python\\python311\\lib\\site-packages (2.2.3)\n",
      "Requirement already satisfied: numpy>=1.23.2 in c:\\users\\пользователь\\appdata\\local\\programs\\python\\python311\\lib\\site-packages (from pandas) (2.1.2)\n",
      "Requirement already satisfied: python-dateutil>=2.8.2 in c:\\users\\пользователь\\appdata\\local\\programs\\python\\python311\\lib\\site-packages (from pandas) (2.9.0.post0)\n",
      "Requirement already satisfied: pytz>=2020.1 in c:\\users\\пользователь\\appdata\\local\\programs\\python\\python311\\lib\\site-packages (from pandas) (2024.2)\n",
      "Requirement already satisfied: tzdata>=2022.7 in c:\\users\\пользователь\\appdata\\local\\programs\\python\\python311\\lib\\site-packages (from pandas) (2024.2)\n",
      "Requirement already satisfied: six>=1.5 in c:\\users\\пользователь\\appdata\\local\\programs\\python\\python311\\lib\\site-packages (from python-dateutil>=2.8.2->pandas) (1.16.0)\n"
     ]
    },
    {
     "name": "stderr",
     "output_type": "stream",
     "text": [
      "\n",
      "[notice] A new release of pip available: 22.3 -> 24.3.1\n",
      "[notice] To update, run: python.exe -m pip install --upgrade pip\n"
     ]
    },
    {
     "name": "stdout",
     "output_type": "stream",
     "text": [
      "Requirement already satisfied: numpy in c:\\users\\пользователь\\appdata\\local\\programs\\python\\python311\\lib\\site-packages (2.1.2)\n"
     ]
    },
    {
     "name": "stderr",
     "output_type": "stream",
     "text": [
      "\n",
      "[notice] A new release of pip available: 22.3 -> 24.3.1\n",
      "[notice] To update, run: python.exe -m pip install --upgrade pip\n"
     ]
    }
   ],
   "source": [
    "!pip install pandas\n",
    "!pip install numpy"
   ]
  },
  {
   "cell_type": "code",
   "execution_count": 2,
   "id": "3cfaf924-7b30-4e97-a52a-7375595eea10",
   "metadata": {},
   "outputs": [],
   "source": [
    "import pandas as pd\n",
    "import numpy as np\n",
    "import warnings\n",
    "warnings.filterwarnings(\"ignore\")"
   ]
  },
  {
   "cell_type": "markdown",
   "id": "74aa8e51-86e9-4a51-b11c-05c5094ccb34",
   "metadata": {},
   "source": [
    "### Opening data"
   ]
  },
  {
   "cell_type": "code",
   "execution_count": 3,
   "id": "3df16125-1ae6-4b45-a602-377ce78b8ab3",
   "metadata": {},
   "outputs": [],
   "source": [
    "data = pd.read_csv(\"epl-games_p.csv\")"
   ]
  },
  {
   "cell_type": "code",
   "execution_count": 4,
   "id": "16c52957-dbd5-42e8-b2cd-efb760f214f6",
   "metadata": {},
   "outputs": [
    {
     "name": "stdout",
     "output_type": "stream",
     "text": [
      "  div  season        date      team_home  team_away  points_home  points_away  \\\n",
      "0  E0    2008  2008-08-16        Everton  Blackburn          0.0          3.0   \n",
      "1  E0    2008  2008-08-16           Hull     Fulham          3.0          0.0   \n",
      "2  E0    2008  2008-08-16     Sunderland  Liverpool          0.0          3.0   \n",
      "3  E0    2008  2008-08-16         Bolton      Stoke          3.0          0.0   \n",
      "4  E0    2008  2008-08-16  Middlesbrough  Tottenham          3.0          0.0   \n",
      "\n",
      "   goals_home  goals_away  hometeam_uid  awayteam_uid  \n",
      "0         2.0         3.0            13             4  \n",
      "1         2.0         1.0            16            14  \n",
      "2         0.0         1.0            29            18  \n",
      "3         3.0         1.0             6            28  \n",
      "4         2.0         1.0            21            31  \n"
     ]
    }
   ],
   "source": [
    "print(data.head())"
   ]
  },
  {
   "cell_type": "code",
   "execution_count": 5,
   "id": "ed2c8178-fe61-4c6f-966e-077d88ae025f",
   "metadata": {},
   "outputs": [
    {
     "name": "stdout",
     "output_type": "stream",
     "text": [
      "     div  season        date      team_home     team_away  points_home  \\\n",
      "0     E0    2008  2008-08-16        Everton     Blackburn          0.0   \n",
      "1     E0    2008  2008-08-16           Hull        Fulham          3.0   \n",
      "2     E0    2008  2008-08-16     Sunderland     Liverpool          0.0   \n",
      "3     E0    2008  2008-08-16         Bolton         Stoke          3.0   \n",
      "4     E0    2008  2008-08-16  Middlesbrough     Tottenham          3.0   \n",
      "...   ..     ...         ...            ...           ...          ...   \n",
      "4175  E0    2018  2019-05-12    Southampton  Huddersfield          1.0   \n",
      "4176  E0    2018  2019-05-12       Brighton      Man City          0.0   \n",
      "4177  E0    2018  2019-05-12         Fulham     Newcastle          0.0   \n",
      "4178  E0    2018  2019-05-12        Watford      West Ham          0.0   \n",
      "4179  E0    2018  2019-05-12      Liverpool        Wolves          3.0   \n",
      "\n",
      "      points_away  goals_home  goals_away  hometeam_uid  awayteam_uid  \n",
      "0             3.0         2.0         3.0            13             4  \n",
      "1             0.0         2.0         1.0            16            14  \n",
      "2             3.0         0.0         1.0            29            18  \n",
      "3             0.0         3.0         1.0             6            28  \n",
      "4             0.0         2.0         1.0            21            31  \n",
      "...           ...         ...         ...           ...           ...  \n",
      "4175          1.0         1.0         1.0            27            15  \n",
      "4176          3.0         1.0         4.0             8            19  \n",
      "4177          3.0         0.0         4.0            14            22  \n",
      "4178          3.0         1.0         4.0            32            34  \n",
      "4179          0.0         2.0         0.0            18            36  \n",
      "\n",
      "[4180 rows x 11 columns]\n"
     ]
    }
   ],
   "source": [
    "print(data)"
   ]
  },
  {
   "cell_type": "markdown",
   "id": "53f1615e-53b9-4e46-94f9-5d632cd27019",
   "metadata": {},
   "source": [
    "### Data Exploration and Modification"
   ]
  },
  {
   "cell_type": "code",
   "execution_count": 6,
   "id": "b7572ebc-fbce-4f79-9a56-636fb5783066",
   "metadata": {},
   "outputs": [
    {
     "name": "stdout",
     "output_type": "stream",
     "text": [
      "div              object\n",
      "season            int64\n",
      "date             object\n",
      "team_home        object\n",
      "team_away        object\n",
      "points_home     float64\n",
      "points_away     float64\n",
      "goals_home      float64\n",
      "goals_away      float64\n",
      "hometeam_uid      int64\n",
      "awayteam_uid      int64\n",
      "dtype: object\n"
     ]
    }
   ],
   "source": [
    "print(data.dtypes)"
   ]
  },
  {
   "cell_type": "code",
   "execution_count": 9,
   "id": "822705f8-c4b2-402f-818e-eaa881adfec3",
   "metadata": {},
   "outputs": [
    {
     "name": "stdout",
     "output_type": "stream",
     "text": [
      "<class 'pandas.core.frame.DataFrame'>\n",
      "RangeIndex: 4180 entries, 0 to 4179\n",
      "Data columns (total 12 columns):\n",
      " #   Column        Non-Null Count  Dtype  \n",
      "---  ------        --------------  -----  \n",
      " 0   div           4180 non-null   object \n",
      " 1   season        4180 non-null   int64  \n",
      " 2   date          4180 non-null   object \n",
      " 3   team_home     4180 non-null   object \n",
      " 4   team_away     4180 non-null   object \n",
      " 5   points_home   4180 non-null   float64\n",
      " 6   points_away   4180 non-null   float64\n",
      " 7   goals_home    4180 non-null   float64\n",
      " 8   goals_away    4180 non-null   float64\n",
      " 9   hometeam_uid  4180 non-null   int64  \n",
      " 10  awayteam_uid  4180 non-null   int64  \n",
      " 11  months        4180 non-null   object \n",
      "dtypes: float64(4), int64(3), object(5)\n",
      "memory usage: 392.0+ KB\n"
     ]
    }
   ],
   "source": [
    "data.info()"
   ]
  },
  {
   "cell_type": "code",
   "execution_count": 8,
   "id": "125963bc-d34d-49c0-b2bb-7e65821009f7",
   "metadata": {},
   "outputs": [],
   "source": [
    "data['months'] = data[\"date\"].str.split(\"-\").str[1]"
   ]
  },
  {
   "cell_type": "code",
   "execution_count": 14,
   "id": "f533b192-9f37-4278-a87f-d65e961ff09f",
   "metadata": {},
   "outputs": [
    {
     "name": "stdout",
     "output_type": "stream",
     "text": [
      "0       8\n",
      "1       8\n",
      "2       8\n",
      "3       8\n",
      "4       8\n",
      "       ..\n",
      "4175    5\n",
      "4176    5\n",
      "4177    5\n",
      "4178    5\n",
      "4179    5\n",
      "Name: months, Length: 4180, dtype: int64\n"
     ]
    }
   ],
   "source": [
    "print(data['months'])"
   ]
  },
  {
   "cell_type": "code",
   "execution_count": 13,
   "id": "d3254b44-7131-4c94-ae0f-bdafba843feb",
   "metadata": {},
   "outputs": [],
   "source": [
    "data['months'] = pd.to_numeric(data['months'], errors='coerce')"
   ]
  },
  {
   "cell_type": "code",
   "execution_count": 71,
   "id": "b7e80fd3-3f08-4596-9d13-5eb4de143b5a",
   "metadata": {},
   "outputs": [],
   "source": [
    "a = data.groupby(['team_home', 'season'])['points_home'].sum()"
   ]
  },
  {
   "cell_type": "code",
   "execution_count": 78,
   "id": "b6497d23-b6ec-4b48-931e-cdb2303034e1",
   "metadata": {},
   "outputs": [],
   "source": [
    "a_2008 = a.loc[(slice(None), [2008])]"
   ]
  },
  {
   "cell_type": "code",
   "execution_count": 135,
   "id": "0f359c96-2939-4409-a8c0-f208b4fe61ca",
   "metadata": {},
   "outputs": [
    {
     "data": {
      "text/plain": [
       "36"
      ]
     },
     "execution_count": 135,
     "metadata": {},
     "output_type": "execute_result"
    }
   ],
   "source": [
    "total_number_of_teams = data['team_home'].nunique()\n",
    "total_number_of_teams"
   ]
  },
  {
   "cell_type": "code",
   "execution_count": 95,
   "id": "2f4fbe03-ecd1-41a6-adea-4bb71bab8bf6",
   "metadata": {},
   "outputs": [],
   "source": [
    "#with pd.option_context('display.max_rows', None, 'display.max_columns', None):\n",
    "#    print(a_2008)"
   ]
  },
  {
   "cell_type": "code",
   "execution_count": 56,
   "id": "4b8ddf6f-a823-48fc-bd33-68b7fa0c378e",
   "metadata": {},
   "outputs": [
    {
     "data": {
      "text/html": [
       "<div>\n",
       "<style scoped>\n",
       "    .dataframe tbody tr th:only-of-type {\n",
       "        vertical-align: middle;\n",
       "    }\n",
       "\n",
       "    .dataframe tbody tr th {\n",
       "        vertical-align: top;\n",
       "    }\n",
       "\n",
       "    .dataframe thead th {\n",
       "        text-align: right;\n",
       "    }\n",
       "</style>\n",
       "<table border=\"1\" class=\"dataframe\">\n",
       "  <thead>\n",
       "    <tr style=\"text-align: right;\">\n",
       "      <th></th>\n",
       "      <th>div</th>\n",
       "      <th>season</th>\n",
       "      <th>date</th>\n",
       "      <th>team_home</th>\n",
       "      <th>team_away</th>\n",
       "      <th>points_home</th>\n",
       "      <th>points_away</th>\n",
       "      <th>goals_home</th>\n",
       "      <th>goals_away</th>\n",
       "      <th>hometeam_uid</th>\n",
       "      <th>awayteam_uid</th>\n",
       "      <th>months</th>\n",
       "    </tr>\n",
       "  </thead>\n",
       "  <tbody>\n",
       "    <tr>\n",
       "      <th>0</th>\n",
       "      <td>E0</td>\n",
       "      <td>2008</td>\n",
       "      <td>2008-08-16</td>\n",
       "      <td>Everton</td>\n",
       "      <td>Blackburn</td>\n",
       "      <td>0.0</td>\n",
       "      <td>3.0</td>\n",
       "      <td>2.0</td>\n",
       "      <td>3.0</td>\n",
       "      <td>13</td>\n",
       "      <td>4</td>\n",
       "      <td>8</td>\n",
       "    </tr>\n",
       "    <tr>\n",
       "      <th>1</th>\n",
       "      <td>E0</td>\n",
       "      <td>2008</td>\n",
       "      <td>2008-08-16</td>\n",
       "      <td>Hull</td>\n",
       "      <td>Fulham</td>\n",
       "      <td>3.0</td>\n",
       "      <td>0.0</td>\n",
       "      <td>2.0</td>\n",
       "      <td>1.0</td>\n",
       "      <td>16</td>\n",
       "      <td>14</td>\n",
       "      <td>8</td>\n",
       "    </tr>\n",
       "  </tbody>\n",
       "</table>\n",
       "</div>"
      ],
      "text/plain": [
       "  div  season        date team_home  team_away  points_home  points_away  \\\n",
       "0  E0    2008  2008-08-16   Everton  Blackburn          0.0          3.0   \n",
       "1  E0    2008  2008-08-16      Hull     Fulham          3.0          0.0   \n",
       "\n",
       "   goals_home  goals_away  hometeam_uid  awayteam_uid  months  \n",
       "0         2.0         3.0            13             4       8  \n",
       "1         2.0         1.0            16            14       8  "
      ]
     },
     "execution_count": 56,
     "metadata": {},
     "output_type": "execute_result"
    }
   ],
   "source": [
    "data.loc[[0, 1]]"
   ]
  },
  {
   "cell_type": "code",
   "execution_count": 59,
   "id": "407b0163-74fd-4548-a422-797b0960775f",
   "metadata": {},
   "outputs": [
    {
     "data": {
      "text/plain": [
       "(4180, 12)"
      ]
     },
     "execution_count": 59,
     "metadata": {},
     "output_type": "execute_result"
    }
   ],
   "source": [
    "data.shape"
   ]
  },
  {
   "cell_type": "markdown",
   "id": "fba33495-301f-460a-8977-93f824b79c63",
   "metadata": {},
   "source": [
    "### Creating some lists and dictionaries"
   ]
  },
  {
   "cell_type": "code",
   "execution_count": 103,
   "id": "24597d92-4d6f-466f-bc33-e5ffc784ac8a",
   "metadata": {},
   "outputs": [
    {
     "data": {
      "text/plain": [
       "['Everton']"
      ]
     },
     "execution_count": 103,
     "metadata": {},
     "output_type": "execute_result"
    }
   ],
   "source": [
    "list_of_teams = data[\"team_home\"].unique().tolist()\n",
    "list_of_teams[0:1]"
   ]
  },
  {
   "cell_type": "code",
   "execution_count": 108,
   "id": "4f73ee73-decb-4b5d-9d62-f3c051c84049",
   "metadata": {},
   "outputs": [
    {
     "data": {
      "text/plain": [
       "['Middlesbrough', 'Arsenal', 'Aston Villa', 'Blackburn']"
      ]
     },
     "execution_count": 108,
     "metadata": {},
     "output_type": "execute_result"
    }
   ],
   "source": [
    "teams_with_a = [n for n in list_of_teams if 'A' in n or 'b' in n]\n",
    "teams_with_a"
   ]
  },
  {
   "cell_type": "code",
   "execution_count": 161,
   "id": "dcc0c710-d111-403a-b8a1-6ceba24b1714",
   "metadata": {},
   "outputs": [],
   "source": [
    "team_points_dictonary = {\n",
    "    n: data.loc[data['team_home'] == n, 'points_home'].sum() \n",
    "    for n in list_of_teams\n",
    "}"
   ]
  },
  {
   "cell_type": "code",
   "execution_count": 162,
   "id": "b532daaa-08b3-40e5-a5fb-a6b77534e0d4",
   "metadata": {},
   "outputs": [
    {
     "data": {
      "text/plain": [
       "np.float64(462.0)"
      ]
     },
     "execution_count": 162,
     "metadata": {},
     "output_type": "execute_result"
    }
   ],
   "source": [
    "team_points_dictonary[\"Arsenal\"]"
   ]
  },
  {
   "cell_type": "code",
   "execution_count": 171,
   "id": "ae878306-f47c-41b9-8d3f-84f932dbb238",
   "metadata": {},
   "outputs": [
    {
     "name": "stdout",
     "output_type": "stream",
     "text": [
      "['Man United', 'Burnley', 'QPR']\n"
     ]
    }
   ],
   "source": [
    "import random\n",
    "number = 3\n",
    "if number > total_number_of_teams:\n",
    "    print('There are less teams in championship')\n",
    "else:\n",
    "    keys = random.sample(list(team_points_dictonary.keys()), number)\n",
    "    print(keys)"
   ]
  },
  {
   "cell_type": "code",
   "execution_count": 172,
   "id": "6c87b2d8-440d-4ddf-bd8b-ebcd3c52e9a8",
   "metadata": {},
   "outputs": [
    {
     "name": "stdout",
     "output_type": "stream",
     "text": [
      "{'Man United': np.float64(481.0), 'Burnley': np.float64(127.0), 'QPR': np.float64(63.0)}\n"
     ]
    }
   ],
   "source": [
    "random_teams = {a: team_points_dictonary[a] for a in keys}\n",
    "print(random_teams)"
   ]
  },
  {
   "cell_type": "code",
   "execution_count": 177,
   "id": "7cd0ba11-2128-4f73-90ed-2123494b3293",
   "metadata": {},
   "outputs": [
    {
     "data": {
      "text/plain": [
       "[np.float64(481.0), np.float64(127.0), np.float64(63.0)]"
      ]
     },
     "execution_count": 177,
     "metadata": {},
     "output_type": "execute_result"
    }
   ],
   "source": [
    "#Let's convert this dictionary into two separated lists\n",
    "list1 = list(random_teams.values())\n",
    "list1"
   ]
  },
  {
   "cell_type": "code",
   "execution_count": 183,
   "id": "b276bd6d-418c-4f91-a9b9-765383eca740",
   "metadata": {},
   "outputs": [
    {
     "name": "stdout",
     "output_type": "stream",
     "text": [
      "[481.0, 127.0, 63.0]\n"
     ]
    }
   ],
   "source": [
    "list1 = [float(i) for i in list1]\n",
    "print(list1)"
   ]
  },
  {
   "cell_type": "code",
   "execution_count": 175,
   "id": "421bbb02-9d23-470f-926d-ee2f1881492c",
   "metadata": {},
   "outputs": [
    {
     "data": {
      "text/plain": [
       "['Man United', 'Burnley', 'QPR']"
      ]
     },
     "execution_count": 175,
     "metadata": {},
     "output_type": "execute_result"
    }
   ],
   "source": [
    "list2 = list(random_teams.keys())\n",
    "list2"
   ]
  },
  {
   "cell_type": "markdown",
   "id": "85f27fb2-68e3-453b-a91a-936a8e0f9b3d",
   "metadata": {},
   "source": [
    "### Additional example \"for\" loop"
   ]
  },
  {
   "cell_type": "code",
   "execution_count": 184,
   "id": "68c36238-f9e3-4ab1-9496-18bace4841ec",
   "metadata": {},
   "outputs": [],
   "source": [
    "years = data['season'].unique().tolist()[0:1]"
   ]
  },
  {
   "cell_type": "code",
   "execution_count": 185,
   "id": "2f30e180-35c1-4782-a285-044611e505f8",
   "metadata": {
    "scrolled": true
   },
   "outputs": [
    {
     "data": {
      "text/plain": [
       "[2008]"
      ]
     },
     "execution_count": 185,
     "metadata": {},
     "output_type": "execute_result"
    }
   ],
   "source": [
    "years"
   ]
  },
  {
   "cell_type": "code",
   "execution_count": 186,
   "id": "5ba185b9-0f9b-4a2d-8a8b-0d11dda42057",
   "metadata": {},
   "outputs": [
    {
     "name": "stdout",
     "output_type": "stream",
     "text": [
      "team_home      season\n",
      "Arsenal        2008      38.0\n",
      "Aston Villa    2008      30.0\n",
      "Blackburn      2008      25.0\n",
      "Bolton         2008      26.0\n",
      "Chelsea        2008      39.0\n",
      "Everton        2008      30.0\n",
      "Fulham         2008      36.0\n",
      "Hull           2008      14.0\n",
      "Liverpool      2008      43.0\n",
      "Man City       2008      39.0\n",
      "Man United     2008      50.0\n",
      "Middlesbrough  2008      24.0\n",
      "Newcastle      2008      22.0\n",
      "Portsmouth     2008      27.0\n",
      "Stoke          2008      35.0\n",
      "Sunderland     2008      21.0\n",
      "Tottenham      2008      35.0\n",
      "West Brom      2008      24.0\n",
      "West Ham       2008      29.0\n",
      "Wigan          2008      29.0\n",
      "Name: points_home, dtype: float64\n"
     ]
    }
   ],
   "source": [
    "for i in years:\n",
    "    data.groupby(['team_home', 'season'])['points_home'].sum()\n",
    "    a_i = a.loc[(slice(None), [i])]\n",
    "    print(a_i)"
   ]
  }
 ],
 "metadata": {
  "kernelspec": {
   "display_name": "Python 3 (ipykernel)",
   "language": "python",
   "name": "python3"
  },
  "language_info": {
   "codemirror_mode": {
    "name": "ipython",
    "version": 3
   },
   "file_extension": ".py",
   "mimetype": "text/x-python",
   "name": "python",
   "nbconvert_exporter": "python",
   "pygments_lexer": "ipython3",
   "version": "3.11.0"
  }
 },
 "nbformat": 4,
 "nbformat_minor": 5
}
