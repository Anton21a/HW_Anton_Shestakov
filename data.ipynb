{
 "cells": [
  {
   "cell_type": "code",
   "execution_count": null,
   "id": "4c86efec-c452-4eee-a073-a3d8722c55dd",
   "metadata": {},
   "outputs": [],
   "source": []
  }
 ],
 "metadata": {
  "kernelspec": {
   "display_name": "",
   "name": ""
  },
  "language_info": {
   "name": ""
  }
 },
 "nbformat": 4,
 "nbformat_minor": 5
}
